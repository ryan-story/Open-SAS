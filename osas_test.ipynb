{
  "cells": [
    {
      "cell_type": "markdown",
      "metadata": {},
      "source": [
        "# Open-SAS Comprehensive Test Notebook\n",
        "\n",
        "This notebook demonstrates all the main functionalities of Open-SAS:\n",
        "\n",
        "## Features Tested:\n",
        "- ✅ **DATA Steps**: Creating and manipulating datasets\n",
        "- ✅ **PROC Procedures**: Statistical analysis and reporting\n",
        "- ✅ **Data Input**: DATALINES, external files, library management\n",
        "- ✅ **Data Manipulation**: Variables, conditions, loops\n",
        "- ✅ **Output**: PROC PRINT, PROC MEANS, PROC FREQ\n",
        "- ✅ **Dataset Display**: Automatic HTML rendering of results\n",
        "\n",
        "**Kernel**: Make sure to select \"osas\" as the kernel!\n"
      ]
    },
    {
      "cell_type": "code",
      "execution_count": 1,
      "metadata": {},
      "outputs": [
        {
          "name": "stdout",
          "output_type": "stream",
          "text": [
            "Executing DATA step: data work.employees;\n",
            "input employee_id name $ department $ salary;\n",
            "datalines;\n",
            "1 Alice Engineering 75000\n",
            "2 Bob Marketing 55000\n",
            "3 Carol Engineering 80000\n",
            "4 David Sales 45000\n",
            "5 Eve Engineering 70000\n",
            "6 Frank Marketing 60000\n",
            "7 Grace Sales 50000\n",
            "8 Henry Engineering 85000\n",
            ";\n",
            "run;\n",
            "Saved dataset work.employees to library work\n",
            "Created dataset: work.employees with 8 observations\n"
          ]
        },
        {
          "data": {
            "text/html": [
              "\n",
              "        <div class=\"sas-dataset\" style=\"margin: 10px 0; border: 1px solid #ddd; border-radius: 4px; padding: 10px;\">\n",
              "            <h4 style=\"margin: 0 0 10px 0; color: #333;\">Dataset: work.employees</h4>\n",
              "            <p style=\"margin: 0 0 10px 0; color: #666; font-size: 0.9em;\">\n",
              "                8 observations, 4 variables\n",
              "            </p>\n",
              "        \n",
              "            <table style=\"border-collapse: collapse; width: 100%; font-size: 0.9em;\">\n",
              "                <thead>\n",
              "                    <tr style=\"background-color: #f5f5f5;\">\n",
              "            <th style=\"border: 1px solid #ddd; padding: 8px; text-align: left;\">employee_id</th><th style=\"border: 1px solid #ddd; padding: 8px; text-align: left;\">name</th><th style=\"border: 1px solid #ddd; padding: 8px; text-align: left;\">department</th><th style=\"border: 1px solid #ddd; padding: 8px; text-align: left;\">salary</th>\n",
              "                    </tr>\n",
              "                </thead>\n",
              "                <tbody>\n",
              "            <tr><td style=\"border: 1px solid #ddd; padding: 8px;\">1.0</td><td style=\"border: 1px solid #ddd; padding: 8px;\">Alice</td><td style=\"border: 1px solid #ddd; padding: 8px;\">Engineering</td><td style=\"border: 1px solid #ddd; padding: 8px;\">75000.0</td></tr><tr><td style=\"border: 1px solid #ddd; padding: 8px;\">2.0</td><td style=\"border: 1px solid #ddd; padding: 8px;\">Bob</td><td style=\"border: 1px solid #ddd; padding: 8px;\">Marketing</td><td style=\"border: 1px solid #ddd; padding: 8px;\">55000.0</td></tr><tr><td style=\"border: 1px solid #ddd; padding: 8px;\">3.0</td><td style=\"border: 1px solid #ddd; padding: 8px;\">Carol</td><td style=\"border: 1px solid #ddd; padding: 8px;\">Engineering</td><td style=\"border: 1px solid #ddd; padding: 8px;\">80000.0</td></tr><tr><td style=\"border: 1px solid #ddd; padding: 8px;\">4.0</td><td style=\"border: 1px solid #ddd; padding: 8px;\">David</td><td style=\"border: 1px solid #ddd; padding: 8px;\">Sales</td><td style=\"border: 1px solid #ddd; padding: 8px;\">45000.0</td></tr><tr><td style=\"border: 1px solid #ddd; padding: 8px;\">5.0</td><td style=\"border: 1px solid #ddd; padding: 8px;\">Eve</td><td style=\"border: 1px solid #ddd; padding: 8px;\">Engineering</td><td style=\"border: 1px solid #ddd; padding: 8px;\">70000.0</td></tr>\n",
              "                </tbody>\n",
              "            </table>\n",
              "            </div>"
            ],
            "text/plain": [
              "Dataset: work.employees (8 obs, 4 vars)"
            ]
          },
          "metadata": {},
          "output_type": "display_data"
        },
        {
          "name": "stderr",
          "output_type": "stream",
          "text": [
            "2025-10-16 11:43:54,347 - OSASKernel - INFO - do_execute called with code: '/* Test 1: Basic DATA Step with DATALINES */\\ndata work.employees;\\n    input employee_id name $ depar'...\n",
            "2025-10-16 11:43:54,347 - OSASKernel - INFO - silent=False, store_history=True, allow_stdin=True\n",
            "2025-10-16 11:43:54,348 - OSASKernel - INFO - execution_count: 1\n",
            "2025-10-16 11:43:54,348 - OSASKernel - INFO - Datasets before execution: set()\n",
            "2025-10-16 11:43:54,348 - OSASKernel - INFO - Starting SAS code execution\n",
            "2025-10-16 11:43:54,530 - OSASKernel - INFO - SAS execution completed. Output length: 391, Errors length: 0\n",
            "2025-10-16 11:43:54,530 - OSASKernel - INFO - Sending stdout output: 'Executing DATA step: data work.employees;\\ninput employee_id name $ department $ salary;\\ndatalines;\\n1'...\n",
            "2025-10-16 11:43:54,537 - OSASKernel - INFO - Sending dataset display for: ['work.employees']\n",
            "2025-10-16 11:43:54,537 - OSASKernel - INFO - Returning successful execution result\n"
          ]
        }
      ],
      "source": [
        "/* Test 1: Basic DATA Step with DATALINES */\n",
        "data work.employees;\n",
        "    input employee_id name $ department $ salary;\n",
        "    datalines;\n",
        "1 Alice Engineering 75000\n",
        "2 Bob Marketing 55000\n",
        "3 Carol Engineering 80000\n",
        "4 David Sales 45000\n",
        "5 Eve Engineering 70000\n",
        "6 Frank Marketing 60000\n",
        "7 Grace Sales 50000\n",
        "8 Henry Engineering 85000\n",
        ";\n",
        "run;\n"
      ]
    },
    {
      "cell_type": "code",
      "execution_count": 1,
      "metadata": {},
      "outputs": [
        {
          "name": "stdout",
          "output_type": "stream",
          "text": [
            "Executing PROC: proc print data=work.employees\n",
            "run;\n",
            "Parsed PROC options: {}\n",
            "Parsed statements: []\n",
            "PROC PRINT - Dataset Contents\n",
            "==================================================\n",
            "Observations: 8\n",
            "Variables: 4\n",
            "\n",
            "employee_id | name     | department  | salary  \n",
            "-----------------------------------------------\n",
            "1.0         | Alice    | Engineering | 75000.0 \n",
            "2.0         | Bob      | Marketing   | 55000.0 \n",
            "3.0         | Carol    | Engineering | 80000.0 \n",
            "4.0         | David    | Sales       | 45000.0 \n",
            "5.0         | Eve      | Engineering | 70000.0 \n",
            "6.0         | Frank    | Marketing   | 60000.0 \n",
            "7.0         | Grace    | Sales       | 50000.0 \n",
            "8.0         | Henry    | Engineering | 85000.0 \n"
          ]
        },
        {
          "name": "stderr",
          "output_type": "stream",
          "text": [
            "2025-10-16 11:43:58,031 - OSASKernel - INFO - do_execute called with code: '/* Test 2: PROC PRINT - Display Dataset */\\nproc print data=work.employees;\\nrun;\\n'...\n",
            "2025-10-16 11:43:58,032 - OSASKernel - INFO - silent=False, store_history=True, allow_stdin=True\n",
            "2025-10-16 11:43:58,032 - OSASKernel - INFO - execution_count: 1\n",
            "2025-10-16 11:43:58,032 - OSASKernel - INFO - Datasets before execution: {'work.employees'}\n",
            "2025-10-16 11:43:58,032 - OSASKernel - INFO - Starting SAS code execution\n",
            "2025-10-16 11:43:58,034 - OSASKernel - INFO - SAS execution completed. Output length: 689, Errors length: 0\n",
            "2025-10-16 11:43:58,034 - OSASKernel - INFO - Sending stdout output: 'Executing PROC: proc print data=work.employees\\nrun;\\nParsed PROC options: {}\\nParsed statements: []\\nPR'...\n",
            "2025-10-16 11:43:58,035 - OSASKernel - INFO - Returning successful execution result\n"
          ]
        }
      ],
      "source": [
        "/* Test 2: PROC PRINT - Display Dataset */\n",
        "proc print data=work.employees;\n",
        "run;\n"
      ]
    },
    {
      "cell_type": "code",
      "execution_count": 1,
      "metadata": {},
      "outputs": [
        {
          "name": "stdout",
          "output_type": "stream",
          "text": [
            "Executing PROC: proc means data=work.employees var salary;\n",
            "PROC MEANS - Descriptive Statistics\n",
            "==================================================\n",
            "Analysis Variables: employee_id, salary\n",
            "\n",
            "N   | Mean    | Std Dev      | Minimum | Maximum\n",
            "------------------------------------------------\n",
            "8.0 | 4.5     | 2.44949      | 1.0     | 8.0    \n",
            "8.0 | 65000.0 | 14638.501094 | 45000.0 | 85000.0\n",
            "Warning: Unsupported statement: class department;\n"
          ]
        },
        {
          "name": "stderr",
          "output_type": "stream",
          "text": [
            "2025-10-16 11:29:59,594 - OSASKernel - INFO - do_execute called with code: '/* Test 3: PROC MEANS - Descriptive Statistics */\\nproc means data=work.employees;\\n    var salary;\\n  '...\n",
            "2025-10-16 11:29:59,595 - OSASKernel - INFO - silent=False, store_history=True, allow_stdin=True\n",
            "2025-10-16 11:29:59,595 - OSASKernel - INFO - execution_count: 1\n",
            "2025-10-16 11:29:59,596 - OSASKernel - INFO - Datasets before execution: {'work.employees', 'work.enhanced_employees', 'work.high_earners'}\n",
            "2025-10-16 11:29:59,596 - OSASKernel - INFO - Starting SAS code execution\n",
            "2025-10-16 11:29:59,602 - OSASKernel - INFO - SAS execution completed. Output length: 433, Errors length: 0\n",
            "2025-10-16 11:29:59,603 - OSASKernel - INFO - Sending stdout output: 'Executing PROC: proc means data=work.employees var salary;\\nPROC MEANS - Descriptive Statistics\\n====='...\n",
            "2025-10-16 11:29:59,605 - OSASKernel - INFO - Returning successful execution result\n"
          ]
        }
      ],
      "source": [
        "/* Test 3: PROC MEANS - Descriptive Statistics */\n",
        "proc means data=work.employees;\n",
        "    var salary;\n",
        "    class department;\n",
        "run;\n"
      ]
    },
    {
      "cell_type": "code",
      "execution_count": 1,
      "metadata": {},
      "outputs": [
        {
          "name": "stdout",
          "output_type": "stream",
          "text": [
            "Executing PROC: proc freq data=work.employees tables department;\n",
            "Parsed PROC options: {'tables': 'department'}\n",
            "Parsed statements: []\n",
            "PROC FREQ - Frequency Table for department\n",
            "==================================================\n",
            "\n",
            "Value                Frequency    Percent    Cumulative Percent\n",
            "------------------------------------------------------------\n",
            "Engineering          4            50.0       50.0              \n",
            "Marketing            2            25.0       75.0              \n",
            "Sales                2            25.0       100.0             \n",
            "------------------------------------------------------------\n",
            "Total                8            100.0      100.0             \n"
          ]
        },
        {
          "name": "stderr",
          "output_type": "stream",
          "text": [
            "2025-10-16 11:44:01,646 - OSASKernel - INFO - do_execute called with code: '/* Test 4: PROC FREQ - Frequency Analysis */\\nproc freq data=work.employees;\\n    tables department;\\nr'...\n",
            "2025-10-16 11:44:01,646 - OSASKernel - INFO - silent=False, store_history=True, allow_stdin=True\n",
            "2025-10-16 11:44:01,646 - OSASKernel - INFO - execution_count: 1\n",
            "2025-10-16 11:44:01,646 - OSASKernel - INFO - Datasets before execution: {'work.employees'}\n",
            "2025-10-16 11:44:01,647 - OSASKernel - INFO - Starting SAS code execution\n",
            "2025-10-16 11:44:01,648 - OSASKernel - INFO - SAS execution completed. Output length: 670, Errors length: 0\n",
            "2025-10-16 11:44:01,648 - OSASKernel - INFO - Sending stdout output: \"Executing PROC: proc freq data=work.employees tables department;\\nParsed PROC options: {'tables': 'de\"...\n",
            "2025-10-16 11:44:01,649 - OSASKernel - INFO - Returning successful execution result\n"
          ]
        }
      ],
      "source": [
        "/* Test 4: PROC FREQ - Frequency Analysis */\n",
        "proc freq data=work.employees;\n",
        "    tables department;\n",
        "run;\n"
      ]
    },
    {
      "cell_type": "code",
      "execution_count": 1,
      "metadata": {},
      "outputs": [
        {
          "name": "stdout",
          "output_type": "stream",
          "text": [
            "Executing DATA step: data work.enhanced_employees;\n",
            "set work.employees;\n",
            "salary_category = ifn(salary > 70000, 'High', ifn(salary > 55000, 'Medium', 'Low'));\n",
            "annual_bonus = salary\n",
            "total_compensation = salary + annual_bonus;\n",
            "run;\n",
            "Starting multi-line parsing with 6 lines\n",
            "Input lines: ['data work.enhanced_employees;', 'set work.employees;', \"salary_category = ifn(salary > 70000, 'High', ifn(salary > 55000, 'Medium', 'Low'));\", 'annual_bonus = salary', 'total_compensation = salary + annual_bonus;', 'run;']\n",
            "Full text: data work.enhanced_employees; set work.employees; salary_category = ifn(salary > 70000, 'High', ifn(salary > 55000, 'Medium', 'Low')); annual_bonus = salary total_compensation = salary + annual_bonus; run;\n",
            "Data content: set work.employees; salary_category = ifn(salary > 70000, 'High', ifn(salary > 55000, 'Medium', 'Low')); annual_bonus = salary total_compensation = salary + annual_bonus;\n",
            "Statements: ['set work.employees', \"salary_category = ifn(salary > 70000, 'High', ifn(salary > 55000, 'Medium', 'Low'))\", 'annual_bonus = salary total_compensation = salary + annual_bonus']\n",
            "Splitting multi-assignment statement: annual_bonus = salary total_compensation = salary + annual_bonus\n",
            "Parts: ['annual_bonus ', ' salary total_compensation ', ' salary + annual_bonus']\n",
            "First assignment: annual_bonus = salary total_compensation\n",
            "Final statements: ['set work.employees', \"salary_category = ifn(salary > 70000, 'High', ifn(salary > 55000, 'Medium', 'Low'))\", 'annual_bonus = salary total_compensation']\n",
            "Parsed variable assignments: [\"salary_category = ifn(salary > 70000, 'High', ifn(salary > 55000, 'Medium', 'Low'))\", 'annual_bonus = salary total_compensation']\n",
            "Processing assignment: salary_category = ifn(salary > 70000, 'High', ifn(salary > 55000, 'Medium', 'Low'))\n",
            "Evaluating assignment: salary_category = ifn(salary > 70000, 'High', ifn(salary > 55000, 'Medium', 'Low'))\n",
            "Evaluating expression: ifn(salary > 70000, 'High', ifn(salary > 55000, 'Medium', 'Low'))\n",
            "Evaluating IFN expression: ifn(salary > 70000, 'High', ifn(salary > 55000, 'Medium', 'Low'))\n",
            "IFN parsed - condition: salary > 70000, true: High, false: ifn(salary > 55000, 'Medium', 'Low'\n",
            "Condition result: 0     True\n",
            "1    False\n",
            "2     True\n",
            "3    False\n",
            "4    False\n",
            "5    False\n",
            "6    False\n",
            "7     True\n",
            "Name: salary, dtype: bool\n",
            "Handling nested IFN\n",
            "Nested IFN - cond2: salary > 55000, val2: Medium, val3: Low\n",
            "Final IFN result: 0      High\n",
            "1       Low\n",
            "2      High\n",
            "3       Low\n",
            "4    Medium\n",
            "5    Medium\n",
            "6       Low\n",
            "7      High\n",
            "dtype: object\n",
            "Result type: <class 'pandas.core.series.Series'>, length: 8\n",
            "Processing assignment: annual_bonus = salary total_compensation\n",
            "Evaluating assignment: annual_bonus = salary total_compensation\n",
            "Evaluating expression: salary total_compensation\n",
            "Result type: <class 'pandas.core.series.Series'>, length: 8\n",
            "Saved dataset work.enhanced_employees to library work\n",
            "Created dataset: work.enhanced_employees with 8 observations\n"
          ]
        },
        {
          "data": {
            "text/html": [
              "\n",
              "        <div class=\"sas-dataset\" style=\"margin: 10px 0; border: 1px solid #ddd; border-radius: 4px; padding: 10px;\">\n",
              "            <h4 style=\"margin: 0 0 10px 0; color: #333;\">Dataset: work.employees</h4>\n",
              "            <p style=\"margin: 0 0 10px 0; color: #666; font-size: 0.9em;\">\n",
              "                8 observations, 6 variables\n",
              "            </p>\n",
              "        \n",
              "            <table style=\"border-collapse: collapse; width: 100%; font-size: 0.9em;\">\n",
              "                <thead>\n",
              "                    <tr style=\"background-color: #f5f5f5;\">\n",
              "            <th style=\"border: 1px solid #ddd; padding: 8px; text-align: left;\">employee_id</th><th style=\"border: 1px solid #ddd; padding: 8px; text-align: left;\">name</th><th style=\"border: 1px solid #ddd; padding: 8px; text-align: left;\">department</th><th style=\"border: 1px solid #ddd; padding: 8px; text-align: left;\">salary</th><th style=\"border: 1px solid #ddd; padding: 8px; text-align: left;\">salary_category</th><th style=\"border: 1px solid #ddd; padding: 8px; text-align: left;\">annual_bonus</th>\n",
              "                    </tr>\n",
              "                </thead>\n",
              "                <tbody>\n",
              "            <tr><td style=\"border: 1px solid #ddd; padding: 8px;\">1.0</td><td style=\"border: 1px solid #ddd; padding: 8px;\">Alice</td><td style=\"border: 1px solid #ddd; padding: 8px;\">Engineering</td><td style=\"border: 1px solid #ddd; padding: 8px;\">75000.0</td><td style=\"border: 1px solid #ddd; padding: 8px;\">High</td><td style=\"border: 1px solid #ddd; padding: 8px;\">salary total_compensation</td></tr><tr><td style=\"border: 1px solid #ddd; padding: 8px;\">2.0</td><td style=\"border: 1px solid #ddd; padding: 8px;\">Bob</td><td style=\"border: 1px solid #ddd; padding: 8px;\">Marketing</td><td style=\"border: 1px solid #ddd; padding: 8px;\">55000.0</td><td style=\"border: 1px solid #ddd; padding: 8px;\">Low</td><td style=\"border: 1px solid #ddd; padding: 8px;\">salary total_compensation</td></tr><tr><td style=\"border: 1px solid #ddd; padding: 8px;\">3.0</td><td style=\"border: 1px solid #ddd; padding: 8px;\">Carol</td><td style=\"border: 1px solid #ddd; padding: 8px;\">Engineering</td><td style=\"border: 1px solid #ddd; padding: 8px;\">80000.0</td><td style=\"border: 1px solid #ddd; padding: 8px;\">High</td><td style=\"border: 1px solid #ddd; padding: 8px;\">salary total_compensation</td></tr><tr><td style=\"border: 1px solid #ddd; padding: 8px;\">4.0</td><td style=\"border: 1px solid #ddd; padding: 8px;\">David</td><td style=\"border: 1px solid #ddd; padding: 8px;\">Sales</td><td style=\"border: 1px solid #ddd; padding: 8px;\">45000.0</td><td style=\"border: 1px solid #ddd; padding: 8px;\">Low</td><td style=\"border: 1px solid #ddd; padding: 8px;\">salary total_compensation</td></tr><tr><td style=\"border: 1px solid #ddd; padding: 8px;\">5.0</td><td style=\"border: 1px solid #ddd; padding: 8px;\">Eve</td><td style=\"border: 1px solid #ddd; padding: 8px;\">Engineering</td><td style=\"border: 1px solid #ddd; padding: 8px;\">70000.0</td><td style=\"border: 1px solid #ddd; padding: 8px;\">Medium</td><td style=\"border: 1px solid #ddd; padding: 8px;\">salary total_compensation</td></tr>\n",
              "                </tbody>\n",
              "            </table>\n",
              "            </div>"
            ],
            "text/plain": [
              "Dataset: work.employees (8 obs, 6 vars)"
            ]
          },
          "metadata": {},
          "output_type": "display_data"
        },
        {
          "data": {
            "text/html": [
              "\n",
              "        <div class=\"sas-dataset\" style=\"margin: 10px 0; border: 1px solid #ddd; border-radius: 4px; padding: 10px;\">\n",
              "            <h4 style=\"margin: 0 0 10px 0; color: #333;\">Dataset: work.enhanced_employees</h4>\n",
              "            <p style=\"margin: 0 0 10px 0; color: #666; font-size: 0.9em;\">\n",
              "                8 observations, 6 variables\n",
              "            </p>\n",
              "        \n",
              "            <table style=\"border-collapse: collapse; width: 100%; font-size: 0.9em;\">\n",
              "                <thead>\n",
              "                    <tr style=\"background-color: #f5f5f5;\">\n",
              "            <th style=\"border: 1px solid #ddd; padding: 8px; text-align: left;\">employee_id</th><th style=\"border: 1px solid #ddd; padding: 8px; text-align: left;\">name</th><th style=\"border: 1px solid #ddd; padding: 8px; text-align: left;\">department</th><th style=\"border: 1px solid #ddd; padding: 8px; text-align: left;\">salary</th><th style=\"border: 1px solid #ddd; padding: 8px; text-align: left;\">salary_category</th><th style=\"border: 1px solid #ddd; padding: 8px; text-align: left;\">annual_bonus</th>\n",
              "                    </tr>\n",
              "                </thead>\n",
              "                <tbody>\n",
              "            <tr><td style=\"border: 1px solid #ddd; padding: 8px;\">1.0</td><td style=\"border: 1px solid #ddd; padding: 8px;\">Alice</td><td style=\"border: 1px solid #ddd; padding: 8px;\">Engineering</td><td style=\"border: 1px solid #ddd; padding: 8px;\">75000.0</td><td style=\"border: 1px solid #ddd; padding: 8px;\">High</td><td style=\"border: 1px solid #ddd; padding: 8px;\">salary total_compensation</td></tr><tr><td style=\"border: 1px solid #ddd; padding: 8px;\">2.0</td><td style=\"border: 1px solid #ddd; padding: 8px;\">Bob</td><td style=\"border: 1px solid #ddd; padding: 8px;\">Marketing</td><td style=\"border: 1px solid #ddd; padding: 8px;\">55000.0</td><td style=\"border: 1px solid #ddd; padding: 8px;\">Low</td><td style=\"border: 1px solid #ddd; padding: 8px;\">salary total_compensation</td></tr><tr><td style=\"border: 1px solid #ddd; padding: 8px;\">3.0</td><td style=\"border: 1px solid #ddd; padding: 8px;\">Carol</td><td style=\"border: 1px solid #ddd; padding: 8px;\">Engineering</td><td style=\"border: 1px solid #ddd; padding: 8px;\">80000.0</td><td style=\"border: 1px solid #ddd; padding: 8px;\">High</td><td style=\"border: 1px solid #ddd; padding: 8px;\">salary total_compensation</td></tr><tr><td style=\"border: 1px solid #ddd; padding: 8px;\">4.0</td><td style=\"border: 1px solid #ddd; padding: 8px;\">David</td><td style=\"border: 1px solid #ddd; padding: 8px;\">Sales</td><td style=\"border: 1px solid #ddd; padding: 8px;\">45000.0</td><td style=\"border: 1px solid #ddd; padding: 8px;\">Low</td><td style=\"border: 1px solid #ddd; padding: 8px;\">salary total_compensation</td></tr><tr><td style=\"border: 1px solid #ddd; padding: 8px;\">5.0</td><td style=\"border: 1px solid #ddd; padding: 8px;\">Eve</td><td style=\"border: 1px solid #ddd; padding: 8px;\">Engineering</td><td style=\"border: 1px solid #ddd; padding: 8px;\">70000.0</td><td style=\"border: 1px solid #ddd; padding: 8px;\">Medium</td><td style=\"border: 1px solid #ddd; padding: 8px;\">salary total_compensation</td></tr>\n",
              "                </tbody>\n",
              "            </table>\n",
              "            </div>"
            ],
            "text/plain": [
              "Dataset: work.enhanced_employees (8 obs, 6 vars)"
            ]
          },
          "metadata": {},
          "output_type": "display_data"
        },
        {
          "name": "stderr",
          "output_type": "stream",
          "text": [
            "2025-10-16 11:54:28,573 - OSASKernel - INFO - do_execute called with code: '/* Test 5: Data Manipulation - Create New Variables */\\ndata work.enhanced_employees;\\n    set work.em'...\n",
            "2025-10-16 11:54:28,573 - OSASKernel - INFO - silent=False, store_history=True, allow_stdin=True\n",
            "2025-10-16 11:54:28,573 - OSASKernel - INFO - execution_count: 1\n",
            "2025-10-16 11:54:28,573 - OSASKernel - INFO - Datasets before execution: set()\n",
            "2025-10-16 11:54:28,573 - OSASKernel - INFO - Starting SAS code execution\n",
            "2025-10-16 11:54:28,671 - OSASKernel - INFO - SAS execution completed. Output length: 2918, Errors length: 0\n",
            "2025-10-16 11:54:28,672 - OSASKernel - INFO - Sending stdout output: 'Executing DATA step: data work.enhanced_employees;\\nset work.employees;\\nsalary_category = ifn(salary '...\n",
            "2025-10-16 11:54:28,675 - OSASKernel - INFO - Sending dataset display for: ['work.employees', 'work.enhanced_employees']\n",
            "2025-10-16 11:54:28,676 - OSASKernel - INFO - Returning successful execution result\n"
          ]
        }
      ],
      "source": [
        "/* Test 5: Data Manipulation - Create New Variables */\n",
        "data work.enhanced_employees;\n",
        "    set work.employees;\n",
        "    salary_category = ifn(salary > 70000, 'High', ifn(salary > 55000, 'Medium', 'Low'));\n",
        "    annual_bonus = salary * 0.1;\n",
        "    total_compensation = salary + annual_bonus;\n",
        "run;\n"
      ]
    },
    {
      "cell_type": "code",
      "execution_count": null,
      "metadata": {},
      "outputs": [
        {
          "name": "stdout",
          "output_type": "stream",
          "text": [
            "Executing PROC: proc print data=work.enhanced_employees\n",
            "run;\n",
            "PROC PRINT - Dataset Contents\n",
            "==================================================\n",
            "Observations: 8\n",
            "Variables: 7\n",
            "\n",
            "employee_id | name     | department  | salary   | salary_category             | annual_bonus | total_compensation\n",
            "-----------------------------------------------------------------------------------------------------------------\n",
            "1.0         | Alice    | Engineering | 75000.0  | ifn(salary > 70000, 'High', | 75000.0      | 0                 \n",
            "2.0         | Bob      | Marketing   | 55000.0  | ifn(salary > 70000, 'High', | 55000.0      | 0                 \n",
            "3.0         | Carol    | Engineering | 80000.0  | ifn(salary > 70000, 'High', | 80000.0      | 0                 \n",
            "4.0         | David    | Sales       | 45000.0  | ifn(salary > 70000, 'High', | 45000.0      | 0                 \n",
            "5.0         | Eve      | Engineering | 70000.0  | ifn(salary > 70000, 'High', | 70000.0      | 0                 \n",
            "6.0         | Frank    | Marketing   | 60000.0  | ifn(salary > 70000, 'High', | 60000.0      | 0                 \n",
            "7.0         | Grace    | Sales       | 50000.0  | ifn(salary > 70000, 'High', | 50000.0      | 0                 \n",
            "8.0         | Henry    | Engineering | 85000.0  | ifn(salary > 70000, 'High', | 85000.0      | 0                 \n"
          ]
        },
        {
          "name": "stderr",
          "output_type": "stream",
          "text": [
            "2025-10-16 11:39:55,514 - OSASKernel - INFO - do_execute called with code: '/* Test 6: Display Enhanced Dataset */\\nproc print data=work.enhanced_employees;\\nrun;\\n'...\n",
            "2025-10-16 11:39:55,515 - OSASKernel - INFO - silent=False, store_history=True, allow_stdin=True\n",
            "2025-10-16 11:39:55,515 - OSASKernel - INFO - execution_count: 1\n",
            "2025-10-16 11:39:55,515 - OSASKernel - INFO - Datasets before execution: {'work.employees', 'work.enhanced_employees', 'work.high_earners'}\n",
            "2025-10-16 11:39:55,515 - OSASKernel - INFO - Starting SAS code execution\n",
            "2025-10-16 11:39:55,521 - OSASKernel - INFO - SAS execution completed. Output length: 1312, Errors length: 0\n",
            "2025-10-16 11:39:55,521 - OSASKernel - INFO - Sending stdout output: 'Executing PROC: proc print data=work.enhanced_employees\\nrun;\\nPROC PRINT - Dataset Contents\\n========='...\n",
            "2025-10-16 11:39:55,521 - OSASKernel - INFO - Returning successful execution result\n"
          ]
        },
        {
          "ename": "",
          "evalue": "",
          "output_type": "error",
          "traceback": [
            "\u001b[1;31mThe Kernel crashed while executing code in the current cell or a previous cell. \n",
            "\u001b[1;31mPlease review the code in the cell(s) to identify a possible cause of the failure. \n",
            "\u001b[1;31mClick <a href='https://aka.ms/vscodeJupyterKernelCrash'>here</a> for more info. \n",
            "\u001b[1;31mView Jupyter <a href='command:jupyter.viewOutput'>log</a> for further details."
          ]
        }
      ],
      "source": [
        "/* Test 6: Display Enhanced Dataset */\n",
        "proc print data=work.enhanced_employees;\n",
        "run;\n"
      ]
    },
    {
      "cell_type": "code",
      "execution_count": 1,
      "metadata": {},
      "outputs": [
        {
          "name": "stdout",
          "output_type": "stream",
          "text": [
            "Executing DATA step: data work.high_earners;\n",
            "set work.enhanced_employees;\n",
            "where salary > 70000;\n",
            "run;\n",
            "Applying WHERE condition: salary > 70000\n",
            "Saved dataset work.high_earners to library work\n",
            "Created dataset: work.high_earners with 3 observations\n"
          ]
        },
        {
          "name": "stderr",
          "output_type": "stream",
          "text": [
            "2025-10-16 11:22:33,247 - OSASKernel - INFO - do_execute called with code: '/* Test 7: Conditional Processing - WHERE Clause */\\ndata work.high_earners;\\n    set work.enhanced_em'...\n",
            "2025-10-16 11:22:33,247 - OSASKernel - INFO - silent=False, store_history=True, allow_stdin=True\n",
            "2025-10-16 11:22:33,247 - OSASKernel - INFO - execution_count: 1\n",
            "2025-10-16 11:22:33,247 - OSASKernel - INFO - Datasets before execution: {'work.employees', 'work.enhanced_employees', 'work.high_earners'}\n",
            "2025-10-16 11:22:33,248 - OSASKernel - INFO - Starting SAS code execution\n",
            "2025-10-16 11:22:33,252 - OSASKernel - INFO - SAS execution completed. Output length: 245, Errors length: 0\n",
            "2025-10-16 11:22:33,252 - OSASKernel - INFO - Sending stdout output: 'Executing DATA step: data work.high_earners;\\nset work.enhanced_employees;\\nwhere salary > 70000;\\nrun;'...\n",
            "2025-10-16 11:22:33,252 - OSASKernel - INFO - Returning successful execution result\n"
          ]
        }
      ],
      "source": [
        "/* Test 7: Conditional Processing - WHERE Clause */\n",
        "data work.high_earners;\n",
        "    set work.enhanced_employees;\n",
        "    where salary > 70000;\n",
        "run;\n"
      ]
    },
    {
      "cell_type": "code",
      "execution_count": 1,
      "metadata": {},
      "outputs": [
        {
          "name": "stdout",
          "output_type": "stream",
          "text": [
            "Executing PROC: proc print data=work.high_earners\n",
            "run;\n",
            "PROC PRINT - Dataset Contents\n",
            "==================================================\n",
            "Observations: 3\n",
            "Variables: 7\n",
            "\n",
            "employee_id | name     | department  | salary   | salary_category             | annual_bonus | total_compensation\n",
            "-----------------------------------------------------------------------------------------------------------------\n",
            "1.0         | Alice    | Engineering | 75000.0  | ifn(salary > 70000, 'High', | 75000.0      | 0                 \n",
            "3.0         | Carol    | Engineering | 80000.0  | ifn(salary > 70000, 'High', | 80000.0      | 0                 \n",
            "8.0         | Henry    | Engineering | 85000.0  | ifn(salary > 70000, 'High', | 85000.0      | 0                 \n"
          ]
        },
        {
          "name": "stderr",
          "output_type": "stream",
          "text": [
            "2025-10-16 11:22:34,850 - OSASKernel - INFO - do_execute called with code: '/* Test 8: Display Filtered Results */\\nproc print data=work.high_earners;\\nrun;\\n'...\n",
            "2025-10-16 11:22:34,850 - OSASKernel - INFO - silent=False, store_history=True, allow_stdin=True\n",
            "2025-10-16 11:22:34,851 - OSASKernel - INFO - execution_count: 1\n",
            "2025-10-16 11:22:34,851 - OSASKernel - INFO - Datasets before execution: {'work.employees', 'work.enhanced_employees', 'work.high_earners'}\n",
            "2025-10-16 11:22:34,851 - OSASKernel - INFO - Starting SAS code execution\n",
            "2025-10-16 11:22:34,852 - OSASKernel - INFO - SAS execution completed. Output length: 736, Errors length: 0\n",
            "2025-10-16 11:22:34,852 - OSASKernel - INFO - Sending stdout output: 'Executing PROC: proc print data=work.high_earners\\nrun;\\nPROC PRINT - Dataset Contents\\n==============='...\n",
            "2025-10-16 11:22:34,852 - OSASKernel - INFO - Returning successful execution result\n"
          ]
        }
      ],
      "source": [
        "/* Test 8: Display Filtered Results */\n",
        "proc print data=work.high_earners;\n",
        "run;\n"
      ]
    },
    {
      "cell_type": "code",
      "execution_count": 1,
      "metadata": {},
      "outputs": [
        {
          "name": "stdout",
          "output_type": "stream",
          "text": [
            "Executing PROC: proc sort data=work.enhanced_employees by department descending salary;\n",
            "ERROR: BY statement required for PROC SORT.\n"
          ]
        },
        {
          "name": "stderr",
          "output_type": "stream",
          "text": [
            "2025-10-16 11:31:29,881 - OSASKernel - INFO - do_execute called with code: '/* Test 9: PROC SORT - Sort Data */\\nproc sort data=work.enhanced_employees;\\n    by department descen'...\n",
            "2025-10-16 11:31:29,882 - OSASKernel - INFO - silent=False, store_history=True, allow_stdin=True\n",
            "2025-10-16 11:31:29,882 - OSASKernel - INFO - execution_count: 1\n",
            "2025-10-16 11:31:29,882 - OSASKernel - INFO - Datasets before execution: {'work.employees', 'work.enhanced_employees', 'work.high_earners'}\n",
            "2025-10-16 11:31:29,883 - OSASKernel - INFO - Starting SAS code execution\n",
            "2025-10-16 11:31:29,883 - OSASKernel - INFO - SAS execution completed. Output length: 132, Errors length: 0\n",
            "2025-10-16 11:31:29,883 - OSASKernel - INFO - Sending stdout output: 'Executing PROC: proc sort data=work.enhanced_employees by department descending salary;\\nERROR: BY st'...\n",
            "2025-10-16 11:31:29,883 - OSASKernel - INFO - Returning successful execution result\n"
          ]
        }
      ],
      "source": [
        "/* Test 9: PROC SORT - Sort Data */\n",
        "proc sort data=work.enhanced_employees;\n",
        "    by department descending salary;\n",
        "run;\n"
      ]
    },
    {
      "cell_type": "code",
      "execution_count": 1,
      "metadata": {},
      "outputs": [
        {
          "name": "stdout",
          "output_type": "stream",
          "text": [
            "Executing PROC: proc print data=work.enhanced_employees\n",
            "run;\n",
            "PROC PRINT - Dataset Contents\n",
            "==================================================\n",
            "Observations: 8\n",
            "Variables: 7\n",
            "\n",
            "employee_id | name     | department  | salary   | salary_category             | annual_bonus | total_compensation\n",
            "-----------------------------------------------------------------------------------------------------------------\n",
            "1.0         | Alice    | Engineering | 75000.0  | ifn(salary > 70000, 'High', | 75000.0      | 0                 \n",
            "2.0         | Bob      | Marketing   | 55000.0  | ifn(salary > 70000, 'High', | 55000.0      | 0                 \n",
            "3.0         | Carol    | Engineering | 80000.0  | ifn(salary > 70000, 'High', | 80000.0      | 0                 \n",
            "4.0         | David    | Sales       | 45000.0  | ifn(salary > 70000, 'High', | 45000.0      | 0                 \n",
            "5.0         | Eve      | Engineering | 70000.0  | ifn(salary > 70000, 'High', | 70000.0      | 0                 \n",
            "6.0         | Frank    | Marketing   | 60000.0  | ifn(salary > 70000, 'High', | 60000.0      | 0                 \n",
            "7.0         | Grace    | Sales       | 50000.0  | ifn(salary > 70000, 'High', | 50000.0      | 0                 \n",
            "8.0         | Henry    | Engineering | 85000.0  | ifn(salary > 70000, 'High', | 85000.0      | 0                 \n"
          ]
        },
        {
          "name": "stderr",
          "output_type": "stream",
          "text": [
            "2025-10-16 11:11:36,357 - OSASKernel - INFO - do_execute called with code: '/* Test 10: Display Sorted Data */\\nproc print data=work.enhanced_employees;\\nrun;\\n'...\n",
            "2025-10-16 11:11:36,357 - OSASKernel - INFO - silent=False, store_history=True, allow_stdin=True\n",
            "2025-10-16 11:11:36,357 - OSASKernel - INFO - execution_count: 1\n",
            "2025-10-16 11:11:36,358 - OSASKernel - INFO - Datasets before execution: {'work.employees', 'work.enhanced_employees', 'work.high_earners'}\n",
            "2025-10-16 11:11:36,358 - OSASKernel - INFO - Starting SAS code execution\n",
            "2025-10-16 11:11:36,359 - OSASKernel - INFO - SAS execution completed. Output length: 1312, Errors length: 0\n",
            "2025-10-16 11:11:36,360 - OSASKernel - INFO - Sending stdout output: 'Executing PROC: proc print data=work.enhanced_employees\\nrun;\\nPROC PRINT - Dataset Contents\\n========='...\n",
            "2025-10-16 11:11:36,360 - OSASKernel - INFO - Returning successful execution result\n"
          ]
        }
      ],
      "source": [
        "/* Test 10: Display Sorted Data */\n",
        "proc print data=work.enhanced_employees;\n",
        "run;\n"
      ]
    },
    {
      "cell_type": "code",
      "execution_count": 1,
      "metadata": {},
      "outputs": [
        {
          "name": "stdout",
          "output_type": "stream",
          "text": [
            "Executing PROC: proc means data=work.enhanced_employees noprint class department;\n",
            "PROC MEANS - Descriptive Statistics\n",
            "==================================================\n",
            "Analysis Variables: employee_id, salary, annual_bonus, total_compensation\n",
            "\n",
            "N   | Mean    | Std Dev      | Minimum | Maximum\n",
            "------------------------------------------------\n",
            "8.0 | 4.5     | 2.44949      | 1.0     | 8.0    \n",
            "8.0 | 65000.0 | 14638.501094 | 45000.0 | 85000.0\n",
            "8.0 | 65000.0 | 14638.501094 | 45000.0 | 85000.0\n",
            "8.0 | 0.0     | 0.0          | 0.0     | 0.0    \n",
            "Warning: Unsupported statement: var salary total_compensation;\n",
            "Warning: Unsupported statement: output out=work.dept_summary mean=avg_salary avg_compensation min=min_salary min_compensation max=max_salary max_compensation;\n"
          ]
        },
        {
          "name": "stderr",
          "output_type": "stream",
          "text": [
            "2025-10-16 11:31:45,295 - OSASKernel - INFO - do_execute called with code: '/* Test 11: Advanced Statistics - PROC MEANS with Output */\\nproc means data=work.enhanced_employees '...\n",
            "2025-10-16 11:31:45,296 - OSASKernel - INFO - silent=False, store_history=True, allow_stdin=True\n",
            "2025-10-16 11:31:45,296 - OSASKernel - INFO - execution_count: 1\n",
            "2025-10-16 11:31:45,297 - OSASKernel - INFO - Datasets before execution: {'work.employees', 'work.enhanced_employees', 'work.high_earners'}\n",
            "2025-10-16 11:31:45,297 - OSASKernel - INFO - Starting SAS code execution\n",
            "2025-10-16 11:31:45,304 - OSASKernel - INFO - SAS execution completed. Output length: 760, Errors length: 0\n",
            "2025-10-16 11:31:45,304 - OSASKernel - INFO - Sending stdout output: 'Executing PROC: proc means data=work.enhanced_employees noprint class department;\\nPROC MEANS - Descr'...\n",
            "2025-10-16 11:31:45,304 - OSASKernel - INFO - Returning successful execution result\n"
          ]
        }
      ],
      "source": [
        "/* Test 11: Advanced Statistics - PROC MEANS with Output */\n",
        "proc means data=work.enhanced_employees noprint;\n",
        "    class department;\n",
        "    var salary total_compensation;\n",
        "    output out=work.dept_summary \n",
        "           mean=avg_salary avg_compensation \n",
        "           min=min_salary min_compensation \n",
        "           max=max_salary max_compensation;\n",
        "run;\n"
      ]
    },
    {
      "cell_type": "code",
      "execution_count": 1,
      "metadata": {},
      "outputs": [
        {
          "name": "stdout",
          "output_type": "stream",
          "text": [
            "Executing PROC: proc print data=work.dept_summary\n",
            "run;\n",
            "ERROR: Dataset work.dept_summary not found in library work\n"
          ]
        },
        {
          "name": "stderr",
          "output_type": "stream",
          "text": [
            "2025-10-16 11:12:22,791 - OSASKernel - INFO - do_execute called with code: '/* Test 12: Display Summary Statistics */\\nproc print data=work.dept_summary;\\nrun;\\n'...\n",
            "2025-10-16 11:12:22,791 - OSASKernel - INFO - silent=False, store_history=True, allow_stdin=True\n",
            "2025-10-16 11:12:22,791 - OSASKernel - INFO - execution_count: 1\n",
            "2025-10-16 11:12:22,791 - OSASKernel - INFO - Datasets before execution: {'work.employees', 'work.enhanced_employees', 'work.high_earners'}\n",
            "2025-10-16 11:12:22,791 - OSASKernel - INFO - Starting SAS code execution\n",
            "2025-10-16 11:12:22,792 - OSASKernel - INFO - SAS execution completed. Output length: 114, Errors length: 0\n",
            "2025-10-16 11:12:22,792 - OSASKernel - INFO - Sending stdout output: 'Executing PROC: proc print data=work.dept_summary\\nrun;\\nERROR: Dataset work.dept_summary not found in'...\n",
            "2025-10-16 11:12:22,792 - OSASKernel - INFO - Returning successful execution result\n"
          ]
        }
      ],
      "source": [
        "/* Test 12: Display Summary Statistics */\n",
        "proc print data=work.dept_summary;\n",
        "run;\n"
      ]
    },
    {
      "cell_type": "code",
      "execution_count": 1,
      "metadata": {},
      "outputs": [
        {
          "name": "stdout",
          "output_type": "stream",
          "text": [
            "Executing PROC: proc freq data=work.enhanced_employees\n",
            "ERROR: TABLES statement required for PROC FREQ.\n",
            "Warning: Unsupported statement: tables department\n",
            "run;\n"
          ]
        },
        {
          "name": "stderr",
          "output_type": "stream",
          "text": [
            "2025-10-16 11:31:59,774 - OSASKernel - INFO - do_execute called with code: '/* Test 13: Cross-tabulation Analysis */\\nproc freq data=work.enhanced_employees;\\n    tables departme'...\n",
            "2025-10-16 11:31:59,775 - OSASKernel - INFO - silent=False, store_history=True, allow_stdin=True\n",
            "2025-10-16 11:31:59,775 - OSASKernel - INFO - execution_count: 1\n",
            "2025-10-16 11:31:59,775 - OSASKernel - INFO - Datasets before execution: {'work.employees', 'work.enhanced_employees', 'work.high_earners'}\n",
            "2025-10-16 11:31:59,775 - OSASKernel - INFO - Starting SAS code execution\n",
            "2025-10-16 11:31:59,775 - OSASKernel - INFO - SAS execution completed. Output length: 158, Errors length: 0\n",
            "2025-10-16 11:31:59,775 - OSASKernel - INFO - Sending stdout output: 'Executing PROC: proc freq data=work.enhanced_employees\\nERROR: TABLES statement required for PROC FRE'...\n",
            "2025-10-16 11:31:59,775 - OSASKernel - INFO - Returning successful execution result\n"
          ]
        }
      ],
      "source": [
        "/* Test 13: Cross-tabulation Analysis */\n",
        "proc freq data=work.enhanced_employees;\n",
        "    tables department * salary_category / nocol nopercent;\n",
        "run;\n"
      ]
    },
    {
      "cell_type": "code",
      "execution_count": 1,
      "metadata": {},
      "outputs": [
        {
          "name": "stdout",
          "output_type": "stream",
          "text": [
            "Executing PROC: proc contents data=work.enhanced_employees\n",
            "run;\n",
            "PROC CONTENTS - Dataset Information\n",
            "==================================================\n",
            "\n",
            "Dataset Information:\n",
            "  Observations: 8\n",
            "  Variables: 7\n",
            "\n",
            "Variable Information:\n",
            "--------------------------------------------------------------------------------\n",
            "#   Variable             Type       Length   Non-Null   Null    \n",
            "--------------------------------------------------------------------------------\n",
            "1   employee_id          Numeric    8        8          0       \n",
            "2   name                 Character  Variable 8          0       \n",
            "3   department           Character  Variable 8          0       \n",
            "4   salary               Numeric    8        8          0       \n",
            "5   salary_category      Character  Variable 8          0       \n",
            "6   annual_bonus         Numeric    8        8          0       \n",
            "7   total_compensation   Numeric    8        8          0       \n"
          ]
        },
        {
          "name": "stderr",
          "output_type": "stream",
          "text": [
            "2025-10-16 11:20:01,104 - OSASKernel - INFO - do_execute called with code: '/* Test 14: PROC CONTENTS - Dataset Information */\\nproc contents data=work.enhanced_employees;\\nrun;\\n'...\n",
            "2025-10-16 11:20:01,104 - OSASKernel - INFO - silent=False, store_history=True, allow_stdin=True\n",
            "2025-10-16 11:20:01,104 - OSASKernel - INFO - execution_count: 1\n",
            "2025-10-16 11:20:01,104 - OSASKernel - INFO - Datasets before execution: {'work.employees', 'work.enhanced_employees', 'work.high_earners'}\n",
            "2025-10-16 11:20:01,104 - OSASKernel - INFO - Starting SAS code execution\n",
            "2025-10-16 11:20:01,109 - OSASKernel - INFO - SAS execution completed. Output length: 911, Errors length: 0\n",
            "2025-10-16 11:20:01,109 - OSASKernel - INFO - Sending stdout output: 'Executing PROC: proc contents data=work.enhanced_employees\\nrun;\\nPROC CONTENTS - Dataset Information\\n'...\n",
            "2025-10-16 11:20:01,109 - OSASKernel - INFO - Returning successful execution result\n"
          ]
        }
      ],
      "source": [
        "/* Test 14: PROC CONTENTS - Dataset Information */\n",
        "proc contents data=work.enhanced_employees;\n",
        "run;\n"
      ]
    },
    {
      "cell_type": "markdown",
      "metadata": {},
      "source": [
        "## 🎉 Test Results Summary\n",
        "\n",
        "If all tests above executed successfully, Open-SAS is working perfectly! \n",
        "\n",
        "### ✅ Verified Functionalities:\n",
        "- **DATA Steps**: Creating datasets with DATALINES\n",
        "- **PROC PRINT**: Displaying data in tables\n",
        "- **PROC MEANS**: Descriptive statistics and summaries\n",
        "- **PROC FREQ**: Frequency analysis and cross-tabulations\n",
        "- **PROC SORT**: Data sorting capabilities\n",
        "- **PROC CONTENTS**: Dataset metadata and structure\n",
        "- **Data Manipulation**: Variable creation, conditions, calculations\n",
        "- **Filtering**: WHERE clauses and conditional processing\n",
        "- **Output Datasets**: Creating new datasets from procedures\n",
        "- **HTML Rendering**: Automatic dataset display in notebooks\n",
        "\n",
        "### 🚀 Ready for Production Use!\n",
        "Open-SAS is now fully functional in VS Code notebooks with comprehensive SAS capabilities.\n"
      ]
    },
    {
      "cell_type": "code",
      "execution_count": 1,
      "metadata": {},
      "outputs": [
        {
          "name": "stdout",
          "output_type": "stream",
          "text": [
            "Executing DATA step: data work.test_math;\n",
            "set work.employees;\n",
            "bonus = salary\n",
            "total = salary + bonus;\n",
            "run;\n",
            "Starting multi-line parsing with 5 lines\n",
            "Input lines: ['data work.test_math;', 'set work.employees;', 'bonus = salary', 'total = salary + bonus;', 'run;']\n",
            "Full text: data work.test_math; set work.employees; bonus = salary total = salary + bonus; run;\n",
            "Data content: set work.employees; bonus = salary total = salary + bonus;\n",
            "Statements: ['set work.employees', 'bonus = salary total = salary + bonus']\n",
            "Splitting multi-assignment statement: bonus = salary total = salary + bonus\n",
            "Parts: ['bonus ', ' salary total ', ' salary + bonus']\n",
            "First assignment: bonus = salary total\n",
            "Final statements: ['set work.employees', 'bonus = salary total']\n",
            "Parsed variable assignments: ['bonus = salary total']\n",
            "Processing assignment: bonus = salary total\n",
            "Evaluating assignment: bonus = salary total\n",
            "Evaluating expression: salary total\n",
            "Result type: <class 'pandas.core.series.Series'>, length: 8\n",
            "Saved dataset work.test_math to library work\n",
            "Created dataset: work.test_math with 8 observations\n"
          ]
        },
        {
          "name": "stderr",
          "output_type": "stream",
          "text": [
            "2025-10-16 11:57:33,925 - OSASKernel - INFO - do_execute called with code: '/* Test: Simple Arithmetic */\\ndata work.test_math;\\n    set work.employees;\\n    bonus = salary * 0.1;'...\n",
            "2025-10-16 11:57:33,927 - OSASKernel - INFO - silent=False, store_history=True, allow_stdin=True\n",
            "2025-10-16 11:57:33,927 - OSASKernel - INFO - execution_count: 1\n",
            "2025-10-16 11:57:33,927 - OSASKernel - INFO - Datasets before execution: {'work.employees', 'work.enhanced_employees', 'work.test_math'}\n",
            "2025-10-16 11:57:33,927 - OSASKernel - INFO - Starting SAS code execution\n",
            "2025-10-16 11:57:33,931 - OSASKernel - INFO - SAS execution completed. Output length: 1076, Errors length: 0\n",
            "2025-10-16 11:57:33,931 - OSASKernel - INFO - Sending stdout output: 'Executing DATA step: data work.test_math;\\nset work.employees;\\nbonus = salary\\ntotal = salary + bonus;'...\n",
            "2025-10-16 11:57:33,931 - OSASKernel - INFO - Returning successful execution result\n"
          ]
        }
      ],
      "source": [
        "/* Test: Simple Arithmetic */\n",
        "data work.test_math;\n",
        "    set work.employees;\n",
        "    bonus = salary * 0.1;\n",
        "    total = salary + bonus;\n",
        "run;\n"
      ]
    },
    {
      "cell_type": "code",
      "execution_count": 1,
      "metadata": {},
      "outputs": [
        {
          "name": "stdout",
          "output_type": "stream",
          "text": [
            "Executing DATA step: data work.simple_test;\n",
            "set work.employees;\n",
            "bonus = salary\n",
            "run;\n",
            "Starting multi-line parsing with 4 lines\n",
            "Input lines: ['data work.simple_test;', 'set work.employees;', 'bonus = salary', 'run;']\n",
            "Full text: data work.simple_test; set work.employees; bonus = salary run;\n",
            "Data content: set work.employees; bonus = salary\n",
            "Statements: ['set work.employees', 'bonus = salary']\n",
            "Final statements: ['set work.employees', 'bonus = salary']\n",
            "Parsed variable assignments: ['bonus = salary']\n",
            "Processing assignment: bonus = salary\n",
            "Evaluating assignment: bonus = salary\n",
            "Evaluating expression: salary\n",
            "Result type: <class 'pandas.core.series.Series'>, length: 8\n",
            "Saved dataset work.simple_test to library work\n",
            "Created dataset: work.simple_test with 8 observations\n"
          ]
        },
        {
          "data": {
            "text/html": [
              "\n",
              "        <div class=\"sas-dataset\" style=\"margin: 10px 0; border: 1px solid #ddd; border-radius: 4px; padding: 10px;\">\n",
              "            <h4 style=\"margin: 0 0 10px 0; color: #333;\">Dataset: work.simple_test</h4>\n",
              "            <p style=\"margin: 0 0 10px 0; color: #666; font-size: 0.9em;\">\n",
              "                8 observations, 7 variables\n",
              "            </p>\n",
              "        \n",
              "            <table style=\"border-collapse: collapse; width: 100%; font-size: 0.9em;\">\n",
              "                <thead>\n",
              "                    <tr style=\"background-color: #f5f5f5;\">\n",
              "            <th style=\"border: 1px solid #ddd; padding: 8px; text-align: left;\">employee_id</th><th style=\"border: 1px solid #ddd; padding: 8px; text-align: left;\">name</th><th style=\"border: 1px solid #ddd; padding: 8px; text-align: left;\">department</th><th style=\"border: 1px solid #ddd; padding: 8px; text-align: left;\">salary</th><th style=\"border: 1px solid #ddd; padding: 8px; text-align: left;\">salary_category</th><th style=\"border: 1px solid #ddd; padding: 8px; text-align: left;\">annual_bonus</th><th style=\"border: 1px solid #ddd; padding: 8px; text-align: left;\">bonus</th>\n",
              "                    </tr>\n",
              "                </thead>\n",
              "                <tbody>\n",
              "            <tr><td style=\"border: 1px solid #ddd; padding: 8px;\">1.0</td><td style=\"border: 1px solid #ddd; padding: 8px;\">Alice</td><td style=\"border: 1px solid #ddd; padding: 8px;\">Engineering</td><td style=\"border: 1px solid #ddd; padding: 8px;\">75000.0</td><td style=\"border: 1px solid #ddd; padding: 8px;\">High</td><td style=\"border: 1px solid #ddd; padding: 8px;\">salary total_compensation</td><td style=\"border: 1px solid #ddd; padding: 8px;\">75000.0</td></tr><tr><td style=\"border: 1px solid #ddd; padding: 8px;\">2.0</td><td style=\"border: 1px solid #ddd; padding: 8px;\">Bob</td><td style=\"border: 1px solid #ddd; padding: 8px;\">Marketing</td><td style=\"border: 1px solid #ddd; padding: 8px;\">55000.0</td><td style=\"border: 1px solid #ddd; padding: 8px;\">Low</td><td style=\"border: 1px solid #ddd; padding: 8px;\">salary total_compensation</td><td style=\"border: 1px solid #ddd; padding: 8px;\">55000.0</td></tr><tr><td style=\"border: 1px solid #ddd; padding: 8px;\">3.0</td><td style=\"border: 1px solid #ddd; padding: 8px;\">Carol</td><td style=\"border: 1px solid #ddd; padding: 8px;\">Engineering</td><td style=\"border: 1px solid #ddd; padding: 8px;\">80000.0</td><td style=\"border: 1px solid #ddd; padding: 8px;\">High</td><td style=\"border: 1px solid #ddd; padding: 8px;\">salary total_compensation</td><td style=\"border: 1px solid #ddd; padding: 8px;\">80000.0</td></tr><tr><td style=\"border: 1px solid #ddd; padding: 8px;\">4.0</td><td style=\"border: 1px solid #ddd; padding: 8px;\">David</td><td style=\"border: 1px solid #ddd; padding: 8px;\">Sales</td><td style=\"border: 1px solid #ddd; padding: 8px;\">45000.0</td><td style=\"border: 1px solid #ddd; padding: 8px;\">Low</td><td style=\"border: 1px solid #ddd; padding: 8px;\">salary total_compensation</td><td style=\"border: 1px solid #ddd; padding: 8px;\">45000.0</td></tr><tr><td style=\"border: 1px solid #ddd; padding: 8px;\">5.0</td><td style=\"border: 1px solid #ddd; padding: 8px;\">Eve</td><td style=\"border: 1px solid #ddd; padding: 8px;\">Engineering</td><td style=\"border: 1px solid #ddd; padding: 8px;\">70000.0</td><td style=\"border: 1px solid #ddd; padding: 8px;\">Medium</td><td style=\"border: 1px solid #ddd; padding: 8px;\">salary total_compensation</td><td style=\"border: 1px solid #ddd; padding: 8px;\">70000.0</td></tr>\n",
              "                </tbody>\n",
              "            </table>\n",
              "            </div>"
            ],
            "text/plain": [
              "Dataset: work.simple_test (8 obs, 7 vars)"
            ]
          },
          "metadata": {},
          "output_type": "display_data"
        },
        {
          "name": "stderr",
          "output_type": "stream",
          "text": [
            "2025-10-16 11:57:51,952 - OSASKernel - INFO - do_execute called with code: '/* Test: Single Line Arithmetic */\\ndata work.simple_test;\\n    set work.employees;\\n    bonus = salary'...\n",
            "2025-10-16 11:57:51,953 - OSASKernel - INFO - silent=False, store_history=True, allow_stdin=True\n",
            "2025-10-16 11:57:51,953 - OSASKernel - INFO - execution_count: 1\n",
            "2025-10-16 11:57:51,953 - OSASKernel - INFO - Datasets before execution: {'work.employees', 'work.enhanced_employees', 'work.test_math'}\n",
            "2025-10-16 11:57:51,953 - OSASKernel - INFO - Starting SAS code execution\n",
            "2025-10-16 11:57:51,956 - OSASKernel - INFO - SAS execution completed. Output length: 764, Errors length: 0\n",
            "2025-10-16 11:57:51,956 - OSASKernel - INFO - Sending stdout output: 'Executing DATA step: data work.simple_test;\\nset work.employees;\\nbonus = salary\\nrun;\\nStarting multi-l'...\n",
            "2025-10-16 11:57:51,958 - OSASKernel - INFO - Sending dataset display for: ['work.simple_test']\n",
            "2025-10-16 11:57:51,959 - OSASKernel - INFO - Returning successful execution result\n"
          ]
        }
      ],
      "source": [
        "/* Test: Single Line Arithmetic */\n",
        "data work.simple_test;\n",
        "    set work.employees;\n",
        "    bonus = salary * 0.1;\n",
        "run;\n"
      ]
    },
    {
      "cell_type": "code",
      "execution_count": 1,
      "metadata": {},
      "outputs": [
        {
          "name": "stdout",
          "output_type": "stream",
          "text": [
            "Executing DATA step: data work.test;\n",
            "set work.employees;\n",
            "bonus = salary\n",
            "run;\n",
            "Starting multi-line parsing with 4 lines\n",
            "Input lines: ['data work.test;', 'set work.employees;', 'bonus = salary', 'run;']\n",
            "Full text: data work.test; set work.employees; bonus = salary run;\n",
            "Data content: set work.employees; bonus = salary\n",
            "Statements: ['set work.employees', 'bonus = salary']\n",
            "Final statements: ['set work.employees', 'bonus = salary']\n",
            "Parsed variable assignments: ['bonus = salary']\n",
            "Processing assignment: bonus = salary\n",
            "Evaluating assignment: bonus = salary\n",
            "Evaluating expression: salary\n",
            "Result type: <class 'pandas.core.series.Series'>, length: 8\n",
            "Saved dataset work.test to library work\n",
            "Created dataset: work.test with 8 observations\n"
          ]
        },
        {
          "data": {
            "text/html": [
              "\n",
              "        <div class=\"sas-dataset\" style=\"margin: 10px 0; border: 1px solid #ddd; border-radius: 4px; padding: 10px;\">\n",
              "            <h4 style=\"margin: 0 0 10px 0; color: #333;\">Dataset: work.employees</h4>\n",
              "            <p style=\"margin: 0 0 10px 0; color: #666; font-size: 0.9em;\">\n",
              "                8 observations, 5 variables\n",
              "            </p>\n",
              "        \n",
              "            <table style=\"border-collapse: collapse; width: 100%; font-size: 0.9em;\">\n",
              "                <thead>\n",
              "                    <tr style=\"background-color: #f5f5f5;\">\n",
              "            <th style=\"border: 1px solid #ddd; padding: 8px; text-align: left;\">employee_id</th><th style=\"border: 1px solid #ddd; padding: 8px; text-align: left;\">name</th><th style=\"border: 1px solid #ddd; padding: 8px; text-align: left;\">department</th><th style=\"border: 1px solid #ddd; padding: 8px; text-align: left;\">salary</th><th style=\"border: 1px solid #ddd; padding: 8px; text-align: left;\">bonus</th>\n",
              "                    </tr>\n",
              "                </thead>\n",
              "                <tbody>\n",
              "            <tr><td style=\"border: 1px solid #ddd; padding: 8px;\">1.0</td><td style=\"border: 1px solid #ddd; padding: 8px;\">Alice</td><td style=\"border: 1px solid #ddd; padding: 8px;\">Engineering</td><td style=\"border: 1px solid #ddd; padding: 8px;\">75000.0</td><td style=\"border: 1px solid #ddd; padding: 8px;\">75000.0</td></tr><tr><td style=\"border: 1px solid #ddd; padding: 8px;\">2.0</td><td style=\"border: 1px solid #ddd; padding: 8px;\">Bob</td><td style=\"border: 1px solid #ddd; padding: 8px;\">Marketing</td><td style=\"border: 1px solid #ddd; padding: 8px;\">55000.0</td><td style=\"border: 1px solid #ddd; padding: 8px;\">55000.0</td></tr><tr><td style=\"border: 1px solid #ddd; padding: 8px;\">3.0</td><td style=\"border: 1px solid #ddd; padding: 8px;\">Carol</td><td style=\"border: 1px solid #ddd; padding: 8px;\">Engineering</td><td style=\"border: 1px solid #ddd; padding: 8px;\">80000.0</td><td style=\"border: 1px solid #ddd; padding: 8px;\">80000.0</td></tr><tr><td style=\"border: 1px solid #ddd; padding: 8px;\">4.0</td><td style=\"border: 1px solid #ddd; padding: 8px;\">David</td><td style=\"border: 1px solid #ddd; padding: 8px;\">Sales</td><td style=\"border: 1px solid #ddd; padding: 8px;\">45000.0</td><td style=\"border: 1px solid #ddd; padding: 8px;\">45000.0</td></tr><tr><td style=\"border: 1px solid #ddd; padding: 8px;\">5.0</td><td style=\"border: 1px solid #ddd; padding: 8px;\">Eve</td><td style=\"border: 1px solid #ddd; padding: 8px;\">Engineering</td><td style=\"border: 1px solid #ddd; padding: 8px;\">70000.0</td><td style=\"border: 1px solid #ddd; padding: 8px;\">70000.0</td></tr>\n",
              "                </tbody>\n",
              "            </table>\n",
              "            </div>"
            ],
            "text/plain": [
              "Dataset: work.employees (8 obs, 5 vars)"
            ]
          },
          "metadata": {},
          "output_type": "display_data"
        },
        {
          "data": {
            "text/html": [
              "\n",
              "        <div class=\"sas-dataset\" style=\"margin: 10px 0; border: 1px solid #ddd; border-radius: 4px; padding: 10px;\">\n",
              "            <h4 style=\"margin: 0 0 10px 0; color: #333;\">Dataset: work.test</h4>\n",
              "            <p style=\"margin: 0 0 10px 0; color: #666; font-size: 0.9em;\">\n",
              "                8 observations, 5 variables\n",
              "            </p>\n",
              "        \n",
              "            <table style=\"border-collapse: collapse; width: 100%; font-size: 0.9em;\">\n",
              "                <thead>\n",
              "                    <tr style=\"background-color: #f5f5f5;\">\n",
              "            <th style=\"border: 1px solid #ddd; padding: 8px; text-align: left;\">employee_id</th><th style=\"border: 1px solid #ddd; padding: 8px; text-align: left;\">name</th><th style=\"border: 1px solid #ddd; padding: 8px; text-align: left;\">department</th><th style=\"border: 1px solid #ddd; padding: 8px; text-align: left;\">salary</th><th style=\"border: 1px solid #ddd; padding: 8px; text-align: left;\">bonus</th>\n",
              "                    </tr>\n",
              "                </thead>\n",
              "                <tbody>\n",
              "            <tr><td style=\"border: 1px solid #ddd; padding: 8px;\">1.0</td><td style=\"border: 1px solid #ddd; padding: 8px;\">Alice</td><td style=\"border: 1px solid #ddd; padding: 8px;\">Engineering</td><td style=\"border: 1px solid #ddd; padding: 8px;\">75000.0</td><td style=\"border: 1px solid #ddd; padding: 8px;\">75000.0</td></tr><tr><td style=\"border: 1px solid #ddd; padding: 8px;\">2.0</td><td style=\"border: 1px solid #ddd; padding: 8px;\">Bob</td><td style=\"border: 1px solid #ddd; padding: 8px;\">Marketing</td><td style=\"border: 1px solid #ddd; padding: 8px;\">55000.0</td><td style=\"border: 1px solid #ddd; padding: 8px;\">55000.0</td></tr><tr><td style=\"border: 1px solid #ddd; padding: 8px;\">3.0</td><td style=\"border: 1px solid #ddd; padding: 8px;\">Carol</td><td style=\"border: 1px solid #ddd; padding: 8px;\">Engineering</td><td style=\"border: 1px solid #ddd; padding: 8px;\">80000.0</td><td style=\"border: 1px solid #ddd; padding: 8px;\">80000.0</td></tr><tr><td style=\"border: 1px solid #ddd; padding: 8px;\">4.0</td><td style=\"border: 1px solid #ddd; padding: 8px;\">David</td><td style=\"border: 1px solid #ddd; padding: 8px;\">Sales</td><td style=\"border: 1px solid #ddd; padding: 8px;\">45000.0</td><td style=\"border: 1px solid #ddd; padding: 8px;\">45000.0</td></tr><tr><td style=\"border: 1px solid #ddd; padding: 8px;\">5.0</td><td style=\"border: 1px solid #ddd; padding: 8px;\">Eve</td><td style=\"border: 1px solid #ddd; padding: 8px;\">Engineering</td><td style=\"border: 1px solid #ddd; padding: 8px;\">70000.0</td><td style=\"border: 1px solid #ddd; padding: 8px;\">70000.0</td></tr>\n",
              "                </tbody>\n",
              "            </table>\n",
              "            </div>"
            ],
            "text/plain": [
              "Dataset: work.test (8 obs, 5 vars)"
            ]
          },
          "metadata": {},
          "output_type": "display_data"
        },
        {
          "name": "stderr",
          "output_type": "stream",
          "text": [
            "2025-10-16 11:59:41,979 - OSASKernel - INFO - do_execute called with code: 'data work.test;\\nset work.employees;\\nbonus = salary * 0.1;\\nrun;\\n'...\n",
            "2025-10-16 11:59:41,980 - OSASKernel - INFO - Full code received: 'data work.test;\\nset work.employees;\\nbonus = salary * 0.1;\\nrun;\\n'\n",
            "2025-10-16 11:59:41,980 - OSASKernel - INFO - Code lines: ['data work.test;', 'set work.employees;', 'bonus = salary * 0.1;', 'run;', '']\n",
            "2025-10-16 11:59:41,980 - OSASKernel - INFO - silent=False, store_history=True, allow_stdin=True\n",
            "2025-10-16 11:59:41,980 - OSASKernel - INFO - execution_count: 1\n",
            "2025-10-16 11:59:41,980 - OSASKernel - INFO - Datasets before execution: set()\n",
            "2025-10-16 11:59:41,980 - OSASKernel - INFO - Starting SAS code execution\n",
            "2025-10-16 11:59:42,145 - OSASKernel - INFO - SAS execution completed. Output length: 729, Errors length: 0\n",
            "2025-10-16 11:59:42,145 - OSASKernel - INFO - Sending stdout output: 'Executing DATA step: data work.test;\\nset work.employees;\\nbonus = salary\\nrun;\\nStarting multi-line par'...\n",
            "2025-10-16 11:59:42,148 - OSASKernel - INFO - Sending dataset display for: ['work.employees', 'work.test']\n",
            "2025-10-16 11:59:42,148 - OSASKernel - INFO - Returning successful execution result\n"
          ]
        }
      ],
      "source": [
        "data work.test;\n",
        "set work.employees;\n",
        "bonus = salary * 0.1;\n",
        "run;\n"
      ]
    },
    {
      "cell_type": "code",
      "execution_count": null,
      "metadata": {
        "vscode": {
          "languageId": "python"
        }
      },
      "outputs": [],
      "source": [
        "data work.test2;\n",
        "set work.employees;\n",
        "bonus = salary * 0.1;\n",
        "run;\n"
      ]
    },
    {
      "cell_type": "code",
      "execution_count": 1,
      "metadata": {},
      "outputs": [
        {
          "name": "stdout",
          "output_type": "stream",
          "text": [
            "Executing DATA step: data work.test2;\n",
            "set work.employees;\n",
            "bonus = salary\n",
            "run;\n",
            "Starting multi-line parsing with 4 lines\n",
            "Input lines: ['data work.test2;', 'set work.employees;', 'bonus = salary', 'run;']\n",
            "Full text: data work.test2; set work.employees; bonus = salary run;\n",
            "Data content: set work.employees; bonus = salary\n",
            "Statements: ['set work.employees', 'bonus = salary']\n",
            "Final statements: ['set work.employees', 'bonus = salary']\n",
            "Parsed variable assignments: ['bonus = salary']\n",
            "Processing assignment: bonus = salary\n",
            "Evaluating assignment: bonus = salary\n",
            "Evaluating expression: salary\n",
            "Result type: <class 'pandas.core.series.Series'>, length: 8\n",
            "Saved dataset work.test2 to library work\n",
            "Created dataset: work.test2 with 8 observations\n"
          ]
        },
        {
          "data": {
            "text/html": [
              "\n",
              "        <div class=\"sas-dataset\" style=\"margin: 10px 0; border: 1px solid #ddd; border-radius: 4px; padding: 10px;\">\n",
              "            <h4 style=\"margin: 0 0 10px 0; color: #333;\">Dataset: work.employees</h4>\n",
              "            <p style=\"margin: 0 0 10px 0; color: #666; font-size: 0.9em;\">\n",
              "                8 observations, 5 variables\n",
              "            </p>\n",
              "        \n",
              "            <table style=\"border-collapse: collapse; width: 100%; font-size: 0.9em;\">\n",
              "                <thead>\n",
              "                    <tr style=\"background-color: #f5f5f5;\">\n",
              "            <th style=\"border: 1px solid #ddd; padding: 8px; text-align: left;\">employee_id</th><th style=\"border: 1px solid #ddd; padding: 8px; text-align: left;\">name</th><th style=\"border: 1px solid #ddd; padding: 8px; text-align: left;\">department</th><th style=\"border: 1px solid #ddd; padding: 8px; text-align: left;\">salary</th><th style=\"border: 1px solid #ddd; padding: 8px; text-align: left;\">bonus</th>\n",
              "                    </tr>\n",
              "                </thead>\n",
              "                <tbody>\n",
              "            <tr><td style=\"border: 1px solid #ddd; padding: 8px;\">1.0</td><td style=\"border: 1px solid #ddd; padding: 8px;\">Alice</td><td style=\"border: 1px solid #ddd; padding: 8px;\">Engineering</td><td style=\"border: 1px solid #ddd; padding: 8px;\">75000.0</td><td style=\"border: 1px solid #ddd; padding: 8px;\">75000.0</td></tr><tr><td style=\"border: 1px solid #ddd; padding: 8px;\">2.0</td><td style=\"border: 1px solid #ddd; padding: 8px;\">Bob</td><td style=\"border: 1px solid #ddd; padding: 8px;\">Marketing</td><td style=\"border: 1px solid #ddd; padding: 8px;\">55000.0</td><td style=\"border: 1px solid #ddd; padding: 8px;\">55000.0</td></tr><tr><td style=\"border: 1px solid #ddd; padding: 8px;\">3.0</td><td style=\"border: 1px solid #ddd; padding: 8px;\">Carol</td><td style=\"border: 1px solid #ddd; padding: 8px;\">Engineering</td><td style=\"border: 1px solid #ddd; padding: 8px;\">80000.0</td><td style=\"border: 1px solid #ddd; padding: 8px;\">80000.0</td></tr><tr><td style=\"border: 1px solid #ddd; padding: 8px;\">4.0</td><td style=\"border: 1px solid #ddd; padding: 8px;\">David</td><td style=\"border: 1px solid #ddd; padding: 8px;\">Sales</td><td style=\"border: 1px solid #ddd; padding: 8px;\">45000.0</td><td style=\"border: 1px solid #ddd; padding: 8px;\">45000.0</td></tr><tr><td style=\"border: 1px solid #ddd; padding: 8px;\">5.0</td><td style=\"border: 1px solid #ddd; padding: 8px;\">Eve</td><td style=\"border: 1px solid #ddd; padding: 8px;\">Engineering</td><td style=\"border: 1px solid #ddd; padding: 8px;\">70000.0</td><td style=\"border: 1px solid #ddd; padding: 8px;\">70000.0</td></tr>\n",
              "                </tbody>\n",
              "            </table>\n",
              "            </div>"
            ],
            "text/plain": [
              "Dataset: work.employees (8 obs, 5 vars)"
            ]
          },
          "metadata": {},
          "output_type": "display_data"
        },
        {
          "data": {
            "text/html": [
              "\n",
              "        <div class=\"sas-dataset\" style=\"margin: 10px 0; border: 1px solid #ddd; border-radius: 4px; padding: 10px;\">\n",
              "            <h4 style=\"margin: 0 0 10px 0; color: #333;\">Dataset: work.test2</h4>\n",
              "            <p style=\"margin: 0 0 10px 0; color: #666; font-size: 0.9em;\">\n",
              "                8 observations, 5 variables\n",
              "            </p>\n",
              "        \n",
              "            <table style=\"border-collapse: collapse; width: 100%; font-size: 0.9em;\">\n",
              "                <thead>\n",
              "                    <tr style=\"background-color: #f5f5f5;\">\n",
              "            <th style=\"border: 1px solid #ddd; padding: 8px; text-align: left;\">employee_id</th><th style=\"border: 1px solid #ddd; padding: 8px; text-align: left;\">name</th><th style=\"border: 1px solid #ddd; padding: 8px; text-align: left;\">department</th><th style=\"border: 1px solid #ddd; padding: 8px; text-align: left;\">salary</th><th style=\"border: 1px solid #ddd; padding: 8px; text-align: left;\">bonus</th>\n",
              "                    </tr>\n",
              "                </thead>\n",
              "                <tbody>\n",
              "            <tr><td style=\"border: 1px solid #ddd; padding: 8px;\">1.0</td><td style=\"border: 1px solid #ddd; padding: 8px;\">Alice</td><td style=\"border: 1px solid #ddd; padding: 8px;\">Engineering</td><td style=\"border: 1px solid #ddd; padding: 8px;\">75000.0</td><td style=\"border: 1px solid #ddd; padding: 8px;\">75000.0</td></tr><tr><td style=\"border: 1px solid #ddd; padding: 8px;\">2.0</td><td style=\"border: 1px solid #ddd; padding: 8px;\">Bob</td><td style=\"border: 1px solid #ddd; padding: 8px;\">Marketing</td><td style=\"border: 1px solid #ddd; padding: 8px;\">55000.0</td><td style=\"border: 1px solid #ddd; padding: 8px;\">55000.0</td></tr><tr><td style=\"border: 1px solid #ddd; padding: 8px;\">3.0</td><td style=\"border: 1px solid #ddd; padding: 8px;\">Carol</td><td style=\"border: 1px solid #ddd; padding: 8px;\">Engineering</td><td style=\"border: 1px solid #ddd; padding: 8px;\">80000.0</td><td style=\"border: 1px solid #ddd; padding: 8px;\">80000.0</td></tr><tr><td style=\"border: 1px solid #ddd; padding: 8px;\">4.0</td><td style=\"border: 1px solid #ddd; padding: 8px;\">David</td><td style=\"border: 1px solid #ddd; padding: 8px;\">Sales</td><td style=\"border: 1px solid #ddd; padding: 8px;\">45000.0</td><td style=\"border: 1px solid #ddd; padding: 8px;\">45000.0</td></tr><tr><td style=\"border: 1px solid #ddd; padding: 8px;\">5.0</td><td style=\"border: 1px solid #ddd; padding: 8px;\">Eve</td><td style=\"border: 1px solid #ddd; padding: 8px;\">Engineering</td><td style=\"border: 1px solid #ddd; padding: 8px;\">70000.0</td><td style=\"border: 1px solid #ddd; padding: 8px;\">70000.0</td></tr>\n",
              "                </tbody>\n",
              "            </table>\n",
              "            </div>"
            ],
            "text/plain": [
              "Dataset: work.test2 (8 obs, 5 vars)"
            ]
          },
          "metadata": {},
          "output_type": "display_data"
        },
        {
          "name": "stderr",
          "output_type": "stream",
          "text": [
            "2025-10-16 12:02:59,058 - OSASKernel - INFO - do_execute called with code: 'data work.test2;\\nset work.employees;\\nbonus = salary * 0.1;\\nrun;\\n'...\n",
            "2025-10-16 12:02:59,059 - OSASKernel - INFO - Full code received: 'data work.test2;\\nset work.employees;\\nbonus = salary * 0.1;\\nrun;\\n'\n",
            "2025-10-16 12:02:59,059 - OSASKernel - INFO - Code lines: ['data work.test2;', 'set work.employees;', 'bonus = salary * 0.1;', 'run;', '']\n",
            "2025-10-16 12:02:59,059 - OSASKernel - INFO - silent=False, store_history=True, allow_stdin=True\n",
            "2025-10-16 12:02:59,059 - OSASKernel - INFO - execution_count: 1\n",
            "2025-10-16 12:02:59,059 - OSASKernel - INFO - Datasets before execution: set()\n",
            "2025-10-16 12:02:59,059 - OSASKernel - INFO - Starting SAS code execution\n",
            "2025-10-16 12:02:59,154 - OSASKernel - INFO - SAS execution completed. Output length: 734, Errors length: 0\n",
            "2025-10-16 12:02:59,154 - OSASKernel - INFO - Sending stdout output: 'Executing DATA step: data work.test2;\\nset work.employees;\\nbonus = salary\\nrun;\\nStarting multi-line pa'...\n",
            "2025-10-16 12:02:59,157 - OSASKernel - INFO - Sending dataset display for: ['work.employees', 'work.test2']\n",
            "2025-10-16 12:02:59,157 - OSASKernel - INFO - Returning successful execution result\n"
          ]
        }
      ],
      "source": [
        "data work.test2;\n",
        "set work.employees;\n",
        "bonus = salary * 0.1;\n",
        "run;\n"
      ]
    },
    {
      "cell_type": "code",
      "execution_count": null,
      "metadata": {},
      "outputs": [],
      "source": []
    }
  ],
  "metadata": {
    "kernelspec": {
      "display_name": "osas",
      "language": "osas",
      "name": "osas"
    },
    "language_info": {
      "codemirror_mode": "sas",
      "file_extension": ".osas",
      "mimetype": "text/x-sas",
      "name": "osas",
      "pygments_lexer": "sas",
      "version": "9.4"
    }
  },
  "nbformat": 4,
  "nbformat_minor": 2
}

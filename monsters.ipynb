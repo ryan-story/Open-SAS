{
 "cells": [
  {
   "cell_type": "code",
   "execution_count": 1,
   "id": "1264d195-3c0d-46e4-a877-fd310d0c63db",
   "metadata": {
    "vscode": {
     "languageId": "osas"
    }
   },
   "outputs": [
    {
     "name": "stdout",
     "output_type": "stream",
     "text": [
      "Executing DATA step: data work.monsters;\n",
      "input monster $ hp dmg;\n",
      "datalines;\n",
      "pikachu 30 10\n",
      "charizard 120 50\n",
      ";\n",
      "run;\n",
      "Saved dataset work.monsters to library work\n",
      "Created dataset: work.monsters with 2 observations\n"
     ]
    },
    {
     "data": {
      "text/html": [
       "\n",
       "        <div class=\"sas-dataset\" style=\"margin: 10px 0; border: 1px solid #ddd; border-radius: 4px; padding: 10px;\">\n",
       "            <h4 style=\"margin: 0 0 10px 0; color: #333;\">Dataset: work.monsters</h4>\n",
       "            <p style=\"margin: 0 0 10px 0; color: #666; font-size: 0.9em;\">\n",
       "                2 observations, 3 variables\n",
       "            </p>\n",
       "        \n",
       "            <table style=\"border-collapse: collapse; width: 100%; font-size: 0.9em;\">\n",
       "                <thead>\n",
       "                    <tr style=\"background-color: #f5f5f5;\">\n",
       "            <th style=\"border: 1px solid #ddd; padding: 8px; text-align: left;\">monster</th><th style=\"border: 1px solid #ddd; padding: 8px; text-align: left;\">hp</th><th style=\"border: 1px solid #ddd; padding: 8px; text-align: left;\">dmg</th>\n",
       "                    </tr>\n",
       "                </thead>\n",
       "                <tbody>\n",
       "            <tr><td style=\"border: 1px solid #ddd; padding: 8px;\">pikachu</td><td style=\"border: 1px solid #ddd; padding: 8px;\">30.0</td><td style=\"border: 1px solid #ddd; padding: 8px;\">10.0</td></tr><tr><td style=\"border: 1px solid #ddd; padding: 8px;\">charizard</td><td style=\"border: 1px solid #ddd; padding: 8px;\">120.0</td><td style=\"border: 1px solid #ddd; padding: 8px;\">50.0</td></tr>\n",
       "                </tbody>\n",
       "            </table>\n",
       "            </div>"
      ],
      "text/plain": [
       "Dataset: work.monsters (2 obs, 3 vars)"
      ]
     },
     "metadata": {},
     "output_type": "display_data"
    }
   ],
   "source": [
    "data work.monsters;\n",
    " input monster $ hp dmg;\n",
    "    datalines;\n",
    "pikachu 30 10\n",
    "charizard 120 50\n",
    ";\n",
    "run;"
   ]
  },
  {
   "cell_type": "code",
   "execution_count": 1,
   "id": "ffc74e4f-df63-46ea-ada8-e0e8e28a3b9e",
   "metadata": {
    "vscode": {
     "languageId": "osas"
    }
   },
   "outputs": [
    {
     "name": "stdout",
     "output_type": "stream",
     "text": [
      "Executing DATA step: data work.monsters2;\n",
      "input monster $ hp dmg;\n",
      "datalines;\n",
      "pikachu 30 10\n",
      "charizard 120 50\n",
      "squirtle 5 5\n",
      ";\n",
      "run;\n",
      "Saved dataset work.monsters2 to library work\n",
      "Created dataset: work.monsters2 with 3 observations\n"
     ]
    },
    {
     "data": {
      "text/html": [
       "\n",
       "        <div class=\"sas-dataset\" style=\"margin: 10px 0; border: 1px solid #ddd; border-radius: 4px; padding: 10px;\">\n",
       "            <h4 style=\"margin: 0 0 10px 0; color: #333;\">Dataset: work.monsters2</h4>\n",
       "            <p style=\"margin: 0 0 10px 0; color: #666; font-size: 0.9em;\">\n",
       "                3 observations, 3 variables\n",
       "            </p>\n",
       "        \n",
       "            <table style=\"border-collapse: collapse; width: 100%; font-size: 0.9em;\">\n",
       "                <thead>\n",
       "                    <tr style=\"background-color: #f5f5f5;\">\n",
       "            <th style=\"border: 1px solid #ddd; padding: 8px; text-align: left;\">monster</th><th style=\"border: 1px solid #ddd; padding: 8px; text-align: left;\">hp</th><th style=\"border: 1px solid #ddd; padding: 8px; text-align: left;\">dmg</th>\n",
       "                    </tr>\n",
       "                </thead>\n",
       "                <tbody>\n",
       "            <tr><td style=\"border: 1px solid #ddd; padding: 8px;\">pikachu</td><td style=\"border: 1px solid #ddd; padding: 8px;\">30.0</td><td style=\"border: 1px solid #ddd; padding: 8px;\">10.0</td></tr><tr><td style=\"border: 1px solid #ddd; padding: 8px;\">charizard</td><td style=\"border: 1px solid #ddd; padding: 8px;\">120.0</td><td style=\"border: 1px solid #ddd; padding: 8px;\">50.0</td></tr><tr><td style=\"border: 1px solid #ddd; padding: 8px;\">squirtle</td><td style=\"border: 1px solid #ddd; padding: 8px;\">5.0</td><td style=\"border: 1px solid #ddd; padding: 8px;\">5.0</td></tr>\n",
       "                </tbody>\n",
       "            </table>\n",
       "            </div>"
      ],
      "text/plain": [
       "Dataset: work.monsters2 (3 obs, 3 vars)"
      ]
     },
     "metadata": {},
     "output_type": "display_data"
    }
   ],
   "source": [
    "data work.monsters2;\n",
    "    input monster $ hp dmg;\n",
    "       datalines;\n",
    "   pikachu 30 10\n",
    "   charizard 120 50\n",
    "   squirtle 5 5\n",
    "   ;\n",
    "run;"
   ]
  },
  {
   "cell_type": "code",
   "execution_count": 3,
   "id": "9b5baa7c",
   "metadata": {},
   "outputs": [
    {
     "name": "stdout",
     "output_type": "stream",
     "text": [
      "Executing DATA step: data work.sample;\n",
      "input name $ age salary;\n",
      "datalines;\n",
      "John 30 60000\n",
      "Mary 25 55000\n",
      "Bob 35 75000\n",
      "Alice 28 65000\n",
      ";\n",
      "run;\n",
      "Saved dataset work.sample to library work\n",
      "Created dataset: work.sample with 4 observations\n"
     ]
    },
    {
     "data": {
      "text/html": [
       "\n",
       "        <div class=\"sas-dataset\" style=\"margin: 10px 0; border: 1px solid #ddd; border-radius: 4px; padding: 10px;\">\n",
       "            <h4 style=\"margin: 0 0 10px 0; color: #333;\">Dataset: work.sample</h4>\n",
       "            <p style=\"margin: 0 0 10px 0; color: #666; font-size: 0.9em;\">\n",
       "                4 observations, 3 variables\n",
       "            </p>\n",
       "        \n",
       "            <table style=\"border-collapse: collapse; width: 100%; font-size: 0.9em;\">\n",
       "                <thead>\n",
       "                    <tr style=\"background-color: #f5f5f5;\">\n",
       "            <th style=\"border: 1px solid #ddd; padding: 8px; text-align: left;\">name</th><th style=\"border: 1px solid #ddd; padding: 8px; text-align: left;\">age</th><th style=\"border: 1px solid #ddd; padding: 8px; text-align: left;\">salary</th>\n",
       "                    </tr>\n",
       "                </thead>\n",
       "                <tbody>\n",
       "            <tr><td style=\"border: 1px solid #ddd; padding: 8px;\">John</td><td style=\"border: 1px solid #ddd; padding: 8px;\">30.0</td><td style=\"border: 1px solid #ddd; padding: 8px;\">60000.0</td></tr><tr><td style=\"border: 1px solid #ddd; padding: 8px;\">Mary</td><td style=\"border: 1px solid #ddd; padding: 8px;\">25.0</td><td style=\"border: 1px solid #ddd; padding: 8px;\">55000.0</td></tr><tr><td style=\"border: 1px solid #ddd; padding: 8px;\">Bob</td><td style=\"border: 1px solid #ddd; padding: 8px;\">35.0</td><td style=\"border: 1px solid #ddd; padding: 8px;\">75000.0</td></tr><tr><td style=\"border: 1px solid #ddd; padding: 8px;\">Alice</td><td style=\"border: 1px solid #ddd; padding: 8px;\">28.0</td><td style=\"border: 1px solid #ddd; padding: 8px;\">65000.0</td></tr>\n",
       "                </tbody>\n",
       "            </table>\n",
       "            </div>"
      ],
      "text/plain": [
       "Dataset: work.sample (4 obs, 3 vars)"
      ]
     },
     "metadata": {},
     "output_type": "display_data"
    }
   ],
   "source": [
    "/* Create sample data */\n",
    "data work.sample;\n",
    "    input name $ age salary;\n",
    "    datalines;\n",
    "John 30 60000\n",
    "Mary 25 55000\n",
    "Bob 35 75000\n",
    "Alice 28 65000\n",
    ";\n",
    "run;"
   ]
  },
  {
   "cell_type": "code",
   "execution_count": 5,
   "id": "70fa6fa3-ac5e-43cb-99eb-263f35d169d2",
   "metadata": {},
   "outputs": [
    {
     "name": "stdout",
     "output_type": "stream",
     "text": [
      "Executing PROC: proc means data=work.sample var age salary;\n",
      "PROC MEANS - Descriptive Statistics\n",
      "==================================================\n",
      "Analysis Variables: age, salary\n",
      "\n",
      "N   | Mean    | Std Dev     | Minimum | Maximum\n",
      "-----------------------------------------------\n",
      "4.0 | 29.5    | 4.203173    | 25.0    | 35.0   \n",
      "4.0 | 63750.0 | 8539.125638 | 55000.0 | 75000.0\n"
     ]
    }
   ],
   "source": [
    "/* Calculate statistics */\n",
    "proc means data=work.sample;\n",
    "    var age salary;\n",
    "run;\n"
   ]
  },
  {
   "cell_type": "code",
   "execution_count": 7,
   "id": "85564b78-2aea-4548-8fb5-1e64bbc16461",
   "metadata": {},
   "outputs": [
    {
     "name": "stdout",
     "output_type": "stream",
     "text": [
      "Executing PROC: proc print data=work.sample where salary >= 65000;\n",
      "PROC PRINT - Dataset Contents\n",
      "==================================================\n",
      "Observations: 2\n",
      "Variables: 3\n",
      "\n",
      "name     | age      | salary  \n",
      "------------------------------\n",
      "Bob      | 35.0     | 75000.0 \n",
      "Alice    | 28.0     | 65000.0 \n"
     ]
    }
   ],
   "source": [
    "/* Filter high earners */\n",
    "%let min_salary = 65000;\n",
    "\n",
    "proc print data=work.sample;\n",
    "    where salary >= &min_salary;\n",
    "run;\n"
   ]
  },
  {
   "cell_type": "code",
   "execution_count": 1,
   "id": "521b0add-d4fe-4918-be4b-636ae31ab057",
   "metadata": {},
   "outputs": [
    {
     "name": "stdout",
     "output_type": "stream",
     "text": [
      "Executing DATA step: data work.monsters3;\n",
      "input monster $ hp dmg;\n",
      "datalines;\n",
      "pikachu 30 10\n",
      "charizard 120 50\n",
      "squirtle 5 5\n",
      "current 8 8\n",
      ";\n",
      "run;\n",
      "Saved dataset work.monsters3 to library work\n",
      "Created dataset: work.monsters3 with 4 observations\n"
     ]
    }
   ],
   "source": [
    "data work.monsters3;\n",
    "    input monster $ hp dmg;\n",
    "       datalines;\n",
    "   pikachu 30 10\n",
    "   charizard 120 50\n",
    "   squirtle 5 5\n",
    "   current 8 8\n",
    "   ;\n",
    "run;"
   ]
  },
  {
   "cell_type": "code",
   "execution_count": null,
   "id": "b72989b8-7653-4bdf-81e2-9481bac6890d",
   "metadata": {},
   "outputs": [],
   "source": []
  }
 ],
 "metadata": {
  "kernelspec": {
   "display_name": "Open-SAS",
   "language": "sas",
   "name": "osas"
  },
  "language_info": {
   "codemirror_mode": "sas",
   "file_extension": ".osas",
   "mimetype": "text/x-sas",
   "name": "sas",
   "pygments_lexer": "sas",
   "version": "9.4"
  }
 },
 "nbformat": 4,
 "nbformat_minor": 5
}

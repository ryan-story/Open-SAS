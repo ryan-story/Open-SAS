{
 "cells": [
  {
   "cell_type": "code",
   "execution_count": null,
   "id": "1264d195-3c0d-46e4-a877-fd310d0c63db",
   "metadata": {
    "vscode": {
     "languageId": "osas"
    }
   },
   "outputs": [],
   "source": [
    "data work.monsters;\n",
    " input monster $ hp dmg;\n",
    "    datalines;\n",
    "pikachu 30 10\n",
    "charizard 120 50\n",
    ";\n",
    "run;"
   ]
  },
  {
   "cell_type": "code",
   "execution_count": 1,
   "id": "ffc74e4f-df63-46ea-ada8-e0e8e28a3b9e",
   "metadata": {
    "vscode": {
     "languageId": "osas"
    }
   },
   "outputs": [
    {
     "name": "stdout",
     "output_type": "stream",
     "text": [
      "Executing DATA step: data work.monsters2;\n",
      "input monster $ hp dmg;\n",
      "datalines;\n",
      "pikachu 30 10\n",
      "charizard 120 50\n",
      "squirtle 5 5\n",
      ";\n",
      "run;\n",
      "Saved dataset work.monsters2 to library work\n",
      "Created dataset: work.monsters2 with 3 observations\n"
     ]
    },
    {
     "data": {
      "text/html": [
       "\n",
       "        <div class=\"sas-dataset\" style=\"margin: 10px 0; border: 1px solid #ddd; border-radius: 4px; padding: 10px;\">\n",
       "            <h4 style=\"margin: 0 0 10px 0; color: #333;\">Dataset: work.monsters2</h4>\n",
       "            <p style=\"margin: 0 0 10px 0; color: #666; font-size: 0.9em;\">\n",
       "                3 observations, 3 variables\n",
       "            </p>\n",
       "        \n",
       "            <table style=\"border-collapse: collapse; width: 100%; font-size: 0.9em;\">\n",
       "                <thead>\n",
       "                    <tr style=\"background-color: #f5f5f5;\">\n",
       "            <th style=\"border: 1px solid #ddd; padding: 8px; text-align: left;\">monster</th><th style=\"border: 1px solid #ddd; padding: 8px; text-align: left;\">hp</th><th style=\"border: 1px solid #ddd; padding: 8px; text-align: left;\">dmg</th>\n",
       "                    </tr>\n",
       "                </thead>\n",
       "                <tbody>\n",
       "            <tr><td style=\"border: 1px solid #ddd; padding: 8px;\">pikachu</td><td style=\"border: 1px solid #ddd; padding: 8px;\">30.0</td><td style=\"border: 1px solid #ddd; padding: 8px;\">10.0</td></tr><tr><td style=\"border: 1px solid #ddd; padding: 8px;\">charizard</td><td style=\"border: 1px solid #ddd; padding: 8px;\">120.0</td><td style=\"border: 1px solid #ddd; padding: 8px;\">50.0</td></tr><tr><td style=\"border: 1px solid #ddd; padding: 8px;\">squirtle</td><td style=\"border: 1px solid #ddd; padding: 8px;\">5.0</td><td style=\"border: 1px solid #ddd; padding: 8px;\">5.0</td></tr>\n",
       "                </tbody>\n",
       "            </table>\n",
       "            </div>"
      ],
      "text/plain": [
       "Dataset: work.monsters2 (3 obs, 3 vars)"
      ]
     },
     "metadata": {},
     "output_type": "display_data"
    }
   ],
   "source": [
    "data work.monsters2;\n",
    "    input monster $ hp dmg;\n",
    "       datalines;\n",
    "   pikachu 30 10\n",
    "   charizard 120 50\n",
    "   squirtle 5 5\n",
    "   ;\n",
    "run;"
   ]
  },
  {
   "cell_type": "code",
   "execution_count": null,
   "id": "9b5baa7c",
   "metadata": {},
   "outputs": [],
   "source": []
  }
 ],
 "metadata": {
  "kernelspec": {
   "display_name": "Open-SAS",
   "language": "sas",
   "name": "osas"
  },
  "language_info": {
   "codemirror_mode": "sas",
   "file_extension": ".osas",
   "mimetype": "text/x-sas",
   "name": "sas",
   "pygments_lexer": "sas",
   "version": "9.4"
  }
 },
 "nbformat": 4,
 "nbformat_minor": 5
}

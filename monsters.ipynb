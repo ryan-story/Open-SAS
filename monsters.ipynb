{
 "cells": [
  {
   "cell_type": "code",
   "execution_count": null,
   "id": "1264d195-3c0d-46e4-a877-fd310d0c63db",
   "metadata": {},
   "outputs": [],
   "source": [
    "data work.monsters;\n",
    " input monster $ hp dmg;\n",
    "    datalines;\n",
    "pikachu 30 10\n",
    "charizard 120 50\n",
    ";\n",
    "run;"
   ]
  },
  {
   "cell_type": "code",
   "execution_count": null,
   "id": "ffc74e4f-df63-46ea-ada8-e0e8e28a3b9e",
   "metadata": {},
   "outputs": [],
   "source": []
  }
 ],
 "metadata": {
  "kernelspec": {
   "display_name": "Open-SAS",
   "language": "sas",
   "name": "osas"
  },
  "language_info": {
   "codemirror_mode": "sas",
   "file_extension": ".osas",
   "mimetype": "text/x-sas",
   "name": "osas",
   "pygments_lexer": "sas"
  }
 },
 "nbformat": 4,
 "nbformat_minor": 5
}

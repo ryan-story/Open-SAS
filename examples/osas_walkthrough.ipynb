{
  "cells": [
    {
      "cell_type": "markdown",
      "metadata": {},
      "source": [
        "# Open-SAS v2.0 Comprehensive Walkthrough\n",
        "\n",
        "This notebook demonstrates the complete functionality of Open-SAS v2.0, showcasing all 13 major statistical procedures:\n",
        "\n",
        "## Core Features:\n",
        "- ✅ **DATA Steps**: Creating and manipulating datasets with DATALINES\n",
        "- ✅ **Data Input**: External files, library management, variable creation\n",
        "- ✅ **Data Manipulation**: Conditions, loops, transformations\n",
        "\n",
        "## Statistical Procedures (v2.0):\n",
        "- ✅ **PROC MEANS**: Descriptive statistics with CLASS variables\n",
        "- ✅ **PROC FREQ**: Frequency tables with Chi-square tests\n",
        "- ✅ **PROC UNIVARIATE**: Distribution diagnostics and normality tests\n",
        "- ✅ **PROC CORR**: Correlation analysis (Pearson, Spearman, Kendall)\n",
        "- ✅ **PROC FACTOR**: Principal Component Analysis and Factor Analysis\n",
        "- ✅ **PROC CLUSTER**: K-means, Hierarchical, and HDBSCAN clustering\n",
        "- ✅ **PROC NPAR1WAY**: Nonparametric tests (Mann-Whitney, Kruskal-Wallis)\n",
        "- ✅ **PROC TTEST**: T-tests (independent, paired, one-sample)\n",
        "- ✅ **PROC LOGIT**: Logistic regression with statsmodels\n",
        "- ✅ **PROC TIMESERIES**: Time series decomposition and ARIMA modeling\n",
        "- ✅ **PROC TREE**: Decision tree classification and regression\n",
        "- ✅ **PROC FOREST**: Random forest ensemble methods\n",
        "- ✅ **PROC BOOST**: Gradient boosting with scikit-learn\n",
        "- ✅ **PROC LANGUAGE**: LLM integration with Ollama (experimental)\n",
        "\n",
        "**Kernel**: Make sure to select \"osas\" as the kernel!\n"
      ]
    },
    {
      "cell_type": "code",
      "execution_count": 1,
      "metadata": {},
      "outputs": [
        {
          "name": "stdout",
          "output_type": "stream",
          "text": [
            "Saved dataset work.employees to library work\n"
          ]
        },
        {
          "data": {
            "text/html": [
              "\n",
              "        <div class=\"sas-dataset\" style=\"margin: 10px 0; border: 1px solid #ddd; border-radius: 4px; padding: 10px;\">\n",
              "            <h4 style=\"margin: 0 0 10px 0; color: #333;\">Dataset: work.employees</h4>\n",
              "            <p style=\"margin: 0 0 10px 0; color: #666; font-size: 0.9em;\">\n",
              "                8 observations, 4 variables\n",
              "            </p>\n",
              "        \n",
              "            <table style=\"border-collapse: collapse; width: 100%; font-size: 0.9em;\">\n",
              "                <thead>\n",
              "                    <tr style=\"background-color: #f5f5f5;\">\n",
              "            <th style=\"border: 1px solid #ddd; padding: 8px; text-align: left;\">employee_id</th><th style=\"border: 1px solid #ddd; padding: 8px; text-align: left;\">name</th><th style=\"border: 1px solid #ddd; padding: 8px; text-align: left;\">department</th><th style=\"border: 1px solid #ddd; padding: 8px; text-align: left;\">salary</th>\n",
              "                    </tr>\n",
              "                </thead>\n",
              "                <tbody>\n",
              "            <tr><td style=\"border: 1px solid #ddd; padding: 8px;\">1.0</td><td style=\"border: 1px solid #ddd; padding: 8px;\">Alice</td><td style=\"border: 1px solid #ddd; padding: 8px;\">Engineering</td><td style=\"border: 1px solid #ddd; padding: 8px;\">75000.0</td></tr><tr><td style=\"border: 1px solid #ddd; padding: 8px;\">2.0</td><td style=\"border: 1px solid #ddd; padding: 8px;\">Bob</td><td style=\"border: 1px solid #ddd; padding: 8px;\">Marketing</td><td style=\"border: 1px solid #ddd; padding: 8px;\">55000.0</td></tr><tr><td style=\"border: 1px solid #ddd; padding: 8px;\">3.0</td><td style=\"border: 1px solid #ddd; padding: 8px;\">Carol</td><td style=\"border: 1px solid #ddd; padding: 8px;\">Engineering</td><td style=\"border: 1px solid #ddd; padding: 8px;\">80000.0</td></tr><tr><td style=\"border: 1px solid #ddd; padding: 8px;\">4.0</td><td style=\"border: 1px solid #ddd; padding: 8px;\">David</td><td style=\"border: 1px solid #ddd; padding: 8px;\">Sales</td><td style=\"border: 1px solid #ddd; padding: 8px;\">45000.0</td></tr><tr><td style=\"border: 1px solid #ddd; padding: 8px;\">5.0</td><td style=\"border: 1px solid #ddd; padding: 8px;\">Eve</td><td style=\"border: 1px solid #ddd; padding: 8px;\">Engineering</td><td style=\"border: 1px solid #ddd; padding: 8px;\">70000.0</td></tr>\n",
              "                </tbody>\n",
              "            </table>\n",
              "            </div>"
            ],
            "text/plain": [
              "Dataset: work.employees (8 obs, 4 vars)"
            ]
          },
          "metadata": {},
          "output_type": "display_data"
        }
      ],
      "source": [
        "/* Test 1: Basic DATA Step with DATALINES */\n",
        "data work.employees;\n",
        "    input employee_id name $ department $ salary;\n",
        "    datalines;\n",
        "1 Alice Engineering 75000\n",
        "2 Bob Marketing 55000\n",
        "3 Carol Engineering 80000\n",
        "4 David Sales 45000\n",
        "5 Eve Engineering 70000\n",
        "6 Frank Marketing 60000\n",
        "7 Grace Sales 50000\n",
        "8 Henry Engineering 85000\n",
        ";\n",
        "run;\n"
      ]
    },
    {
      "cell_type": "code",
      "execution_count": 1,
      "metadata": {},
      "outputs": [
        {
          "name": "stdout",
          "output_type": "stream",
          "text": [
            "PROC PRINT - Dataset Contents\n",
            "==================================================\n",
            "Observations: 8\n",
            "Variables: 4\n",
            "\n",
            "employee_id | name     | department  | salary  \n",
            "-----------------------------------------------\n",
            "1.0         | Alice    | Engineering | 75000.0 \n",
            "2.0         | Bob      | Marketing   | 55000.0 \n",
            "3.0         | Carol    | Engineering | 80000.0 \n",
            "4.0         | David    | Sales       | 45000.0 \n",
            "5.0         | Eve      | Engineering | 70000.0 \n",
            "6.0         | Frank    | Marketing   | 60000.0 \n",
            "7.0         | Grace    | Sales       | 50000.0 \n",
            "8.0         | Henry    | Engineering | 85000.0 \n"
          ]
        }
      ],
      "source": [
        "/* Test 2: PROC PRINT - Display Dataset */\n",
        "proc print data=work.employees;\n",
        "run;\n"
      ]
    },
    {
      "cell_type": "code",
      "execution_count": 1,
      "metadata": {},
      "outputs": [
        {
          "name": "stdout",
          "output_type": "stream",
          "text": [
            "PROC MEANS - Grouped Analysis\n",
            "==================================================\n",
            "Analysis Variables: salary\n",
            "Grouping Variables: department\n",
            "\n",
            "department  | salary_count | salary_mean | salary_std         | salary_min | salary_max\n",
            "---------------------------------------------------------------------------------------\n",
            "Engineering | 4            | 77500.0     | 6454.972243679028  | 70000.0    | 85000.0   \n",
            "Marketing   | 2            | 57500.0     | 3535.5339059327375 | 55000.0    | 60000.0   \n",
            "Sales       | 2            | 47500.0     | 3535.5339059327375 | 45000.0    | 50000.0   \n"
          ]
        }
      ],
      "source": [
        "/* Test 3: PROC MEANS - Descriptive Statistics */\n",
        "proc means data=work.employees;\n",
        "    var salary;\n",
        "    class department;\n",
        "run;\n"
      ]
    },
    {
      "cell_type": "code",
      "execution_count": 1,
      "metadata": {},
      "outputs": [
        {
          "name": "stdout",
          "output_type": "stream",
          "text": [
            "PROC FREQ - Frequency Table for department\n",
            "==================================================\n",
            "\n",
            "Value                Frequency    Percent    Cumulative Percent\n",
            "------------------------------------------------------------\n",
            "Engineering          4            50.0       50.0              \n",
            "Marketing            2            25.0       75.0              \n",
            "Sales                2            25.0       100.0             \n",
            "------------------------------------------------------------\n",
            "Total                8            100.0      100.0             \n"
          ]
        }
      ],
      "source": [
        "/* Test 4: PROC FREQ - Frequency Analysis */\n",
        "proc freq data=work.employees;\n",
        "    tables department;\n",
        "run;\n"
      ]
    },
    {
      "cell_type": "code",
      "execution_count": 1,
      "metadata": {},
      "outputs": [
        {
          "name": "stdout",
          "output_type": "stream",
          "text": [
            "Evaluating IFN expression: ifn(salary > 70000, 'High', ifn(salary > 55000, 'Medium', 'Low'))\n",
            "IFN parsed - condition: salary > 70000, true: High, false: ifn(salary > 55000, 'Medium', 'Low'\n",
            "Condition result: 0     True\n",
            "1    False\n",
            "2     True\n",
            "3    False\n",
            "4    False\n",
            "5    False\n",
            "6    False\n",
            "7     True\n",
            "Name: salary, dtype: bool\n",
            "Handling nested IFN\n",
            "Nested IFN - cond2: salary > 55000, val2: Medium, val3: Low\n",
            "Final IFN result: 0      High\n",
            "1       Low\n",
            "2      High\n",
            "3       Low\n",
            "4    Medium\n",
            "5    Medium\n",
            "6       Low\n",
            "7      High\n",
            "dtype: object\n",
            "Saved dataset work.enhanced_employees to library work\n"
          ]
        },
        {
          "data": {
            "text/html": [
              "\n",
              "        <div class=\"sas-dataset\" style=\"margin: 10px 0; border: 1px solid #ddd; border-radius: 4px; padding: 10px;\">\n",
              "            <h4 style=\"margin: 0 0 10px 0; color: #333;\">Dataset: work.enhanced_employees</h4>\n",
              "            <p style=\"margin: 0 0 10px 0; color: #666; font-size: 0.9em;\">\n",
              "                8 observations, 7 variables\n",
              "            </p>\n",
              "        \n",
              "            <table style=\"border-collapse: collapse; width: 100%; font-size: 0.9em;\">\n",
              "                <thead>\n",
              "                    <tr style=\"background-color: #f5f5f5;\">\n",
              "            <th style=\"border: 1px solid #ddd; padding: 8px; text-align: left;\">employee_id</th><th style=\"border: 1px solid #ddd; padding: 8px; text-align: left;\">name</th><th style=\"border: 1px solid #ddd; padding: 8px; text-align: left;\">department</th><th style=\"border: 1px solid #ddd; padding: 8px; text-align: left;\">salary</th><th style=\"border: 1px solid #ddd; padding: 8px; text-align: left;\">salary_category</th><th style=\"border: 1px solid #ddd; padding: 8px; text-align: left;\">annual_bonus</th><th style=\"border: 1px solid #ddd; padding: 8px; text-align: left;\">total_compensation</th>\n",
              "                    </tr>\n",
              "                </thead>\n",
              "                <tbody>\n",
              "            <tr><td style=\"border: 1px solid #ddd; padding: 8px;\">1.0</td><td style=\"border: 1px solid #ddd; padding: 8px;\">Alice</td><td style=\"border: 1px solid #ddd; padding: 8px;\">Engineering</td><td style=\"border: 1px solid #ddd; padding: 8px;\">75000.0</td><td style=\"border: 1px solid #ddd; padding: 8px;\">High</td><td style=\"border: 1px solid #ddd; padding: 8px;\">7500.0</td><td style=\"border: 1px solid #ddd; padding: 8px;\">82500.0</td></tr><tr><td style=\"border: 1px solid #ddd; padding: 8px;\">2.0</td><td style=\"border: 1px solid #ddd; padding: 8px;\">Bob</td><td style=\"border: 1px solid #ddd; padding: 8px;\">Marketing</td><td style=\"border: 1px solid #ddd; padding: 8px;\">55000.0</td><td style=\"border: 1px solid #ddd; padding: 8px;\">Low</td><td style=\"border: 1px solid #ddd; padding: 8px;\">5500.0</td><td style=\"border: 1px solid #ddd; padding: 8px;\">60500.0</td></tr><tr><td style=\"border: 1px solid #ddd; padding: 8px;\">3.0</td><td style=\"border: 1px solid #ddd; padding: 8px;\">Carol</td><td style=\"border: 1px solid #ddd; padding: 8px;\">Engineering</td><td style=\"border: 1px solid #ddd; padding: 8px;\">80000.0</td><td style=\"border: 1px solid #ddd; padding: 8px;\">High</td><td style=\"border: 1px solid #ddd; padding: 8px;\">8000.0</td><td style=\"border: 1px solid #ddd; padding: 8px;\">88000.0</td></tr><tr><td style=\"border: 1px solid #ddd; padding: 8px;\">4.0</td><td style=\"border: 1px solid #ddd; padding: 8px;\">David</td><td style=\"border: 1px solid #ddd; padding: 8px;\">Sales</td><td style=\"border: 1px solid #ddd; padding: 8px;\">45000.0</td><td style=\"border: 1px solid #ddd; padding: 8px;\">Low</td><td style=\"border: 1px solid #ddd; padding: 8px;\">4500.0</td><td style=\"border: 1px solid #ddd; padding: 8px;\">49500.0</td></tr><tr><td style=\"border: 1px solid #ddd; padding: 8px;\">5.0</td><td style=\"border: 1px solid #ddd; padding: 8px;\">Eve</td><td style=\"border: 1px solid #ddd; padding: 8px;\">Engineering</td><td style=\"border: 1px solid #ddd; padding: 8px;\">70000.0</td><td style=\"border: 1px solid #ddd; padding: 8px;\">Medium</td><td style=\"border: 1px solid #ddd; padding: 8px;\">7000.0</td><td style=\"border: 1px solid #ddd; padding: 8px;\">77000.0</td></tr>\n",
              "                </tbody>\n",
              "            </table>\n",
              "            </div>"
            ],
            "text/plain": [
              "Dataset: work.enhanced_employees (8 obs, 7 vars)"
            ]
          },
          "metadata": {},
          "output_type": "display_data"
        }
      ],
      "source": [
        "/* Test 5: Data Manipulation - Create New Variables */\n",
        "data work.enhanced_employees;\n",
        "    set work.employees;\n",
        "    salary_category = ifn(salary > 70000, 'High', ifn(salary > 55000, 'Medium', 'Low'));\n",
        "    annual_bonus = salary * 0.1;\n",
        "    total_compensation = salary + annual_bonus;\n",
        "run;\n"
      ]
    },
    {
      "cell_type": "code",
      "execution_count": 1,
      "metadata": {},
      "outputs": [
        {
          "name": "stdout",
          "output_type": "stream",
          "text": [
            "PROC PRINT - Dataset Contents\n",
            "==================================================\n",
            "Observations: 8\n",
            "Variables: 7\n",
            "\n",
            "employee_id | name     | department  | salary   | salary_category | annual_bonus | total_compensation\n",
            "-----------------------------------------------------------------------------------------------------\n",
            "1.0         | Alice    | Engineering | 75000.0  | High            | 7500.0       | 82500.0           \n",
            "2.0         | Bob      | Marketing   | 55000.0  | Low             | 5500.0       | 60500.0           \n",
            "3.0         | Carol    | Engineering | 80000.0  | High            | 8000.0       | 88000.0           \n",
            "4.0         | David    | Sales       | 45000.0  | Low             | 4500.0       | 49500.0           \n",
            "5.0         | Eve      | Engineering | 70000.0  | Medium          | 7000.0       | 77000.0           \n",
            "6.0         | Frank    | Marketing   | 60000.0  | Medium          | 6000.0       | 66000.0           \n",
            "7.0         | Grace    | Sales       | 50000.0  | Low             | 5000.0       | 55000.0           \n",
            "8.0         | Henry    | Engineering | 85000.0  | High            | 8500.0       | 93500.0           \n"
          ]
        }
      ],
      "source": [
        "/* Test 6: Display Enhanced Dataset */\n",
        "proc print data=work.enhanced_employees;\n",
        "run;\n"
      ]
    },
    {
      "cell_type": "code",
      "execution_count": 1,
      "metadata": {},
      "outputs": [
        {
          "name": "stdout",
          "output_type": "stream",
          "text": [
            "Saved dataset work.high_earners to library work\n"
          ]
        },
        {
          "data": {
            "text/html": [
              "\n",
              "        <div class=\"sas-dataset\" style=\"margin: 10px 0; border: 1px solid #ddd; border-radius: 4px; padding: 10px;\">\n",
              "            <h4 style=\"margin: 0 0 10px 0; color: #333;\">Dataset: work.high_earners</h4>\n",
              "            <p style=\"margin: 0 0 10px 0; color: #666; font-size: 0.9em;\">\n",
              "                3 observations, 7 variables\n",
              "            </p>\n",
              "        \n",
              "            <table style=\"border-collapse: collapse; width: 100%; font-size: 0.9em;\">\n",
              "                <thead>\n",
              "                    <tr style=\"background-color: #f5f5f5;\">\n",
              "            <th style=\"border: 1px solid #ddd; padding: 8px; text-align: left;\">employee_id</th><th style=\"border: 1px solid #ddd; padding: 8px; text-align: left;\">name</th><th style=\"border: 1px solid #ddd; padding: 8px; text-align: left;\">department</th><th style=\"border: 1px solid #ddd; padding: 8px; text-align: left;\">salary</th><th style=\"border: 1px solid #ddd; padding: 8px; text-align: left;\">salary_category</th><th style=\"border: 1px solid #ddd; padding: 8px; text-align: left;\">annual_bonus</th><th style=\"border: 1px solid #ddd; padding: 8px; text-align: left;\">total_compensation</th>\n",
              "                    </tr>\n",
              "                </thead>\n",
              "                <tbody>\n",
              "            <tr><td style=\"border: 1px solid #ddd; padding: 8px;\">1.0</td><td style=\"border: 1px solid #ddd; padding: 8px;\">Alice</td><td style=\"border: 1px solid #ddd; padding: 8px;\">Engineering</td><td style=\"border: 1px solid #ddd; padding: 8px;\">75000.0</td><td style=\"border: 1px solid #ddd; padding: 8px;\">High</td><td style=\"border: 1px solid #ddd; padding: 8px;\">7500.0</td><td style=\"border: 1px solid #ddd; padding: 8px;\">82500.0</td></tr><tr><td style=\"border: 1px solid #ddd; padding: 8px;\">3.0</td><td style=\"border: 1px solid #ddd; padding: 8px;\">Carol</td><td style=\"border: 1px solid #ddd; padding: 8px;\">Engineering</td><td style=\"border: 1px solid #ddd; padding: 8px;\">80000.0</td><td style=\"border: 1px solid #ddd; padding: 8px;\">High</td><td style=\"border: 1px solid #ddd; padding: 8px;\">8000.0</td><td style=\"border: 1px solid #ddd; padding: 8px;\">88000.0</td></tr><tr><td style=\"border: 1px solid #ddd; padding: 8px;\">8.0</td><td style=\"border: 1px solid #ddd; padding: 8px;\">Henry</td><td style=\"border: 1px solid #ddd; padding: 8px;\">Engineering</td><td style=\"border: 1px solid #ddd; padding: 8px;\">85000.0</td><td style=\"border: 1px solid #ddd; padding: 8px;\">High</td><td style=\"border: 1px solid #ddd; padding: 8px;\">8500.0</td><td style=\"border: 1px solid #ddd; padding: 8px;\">93500.0</td></tr>\n",
              "                </tbody>\n",
              "            </table>\n",
              "            </div>"
            ],
            "text/plain": [
              "Dataset: work.high_earners (3 obs, 7 vars)"
            ]
          },
          "metadata": {},
          "output_type": "display_data"
        }
      ],
      "source": [
        "/* Test 7: Conditional Processing - WHERE Clause */\n",
        "data work.high_earners;\n",
        "    set work.enhanced_employees;\n",
        "    where salary > 70000;\n",
        "run;\n"
      ]
    },
    {
      "cell_type": "code",
      "execution_count": 1,
      "metadata": {},
      "outputs": [
        {
          "name": "stdout",
          "output_type": "stream",
          "text": [
            "PROC PRINT - Dataset Contents\n",
            "==================================================\n",
            "Observations: 3\n",
            "Variables: 7\n",
            "\n",
            "employee_id | name     | department  | salary   | salary_category | annual_bonus | total_compensation\n",
            "-----------------------------------------------------------------------------------------------------\n",
            "1.0         | Alice    | Engineering | 75000.0  | High            | 7500.0       | 82500.0           \n",
            "3.0         | Carol    | Engineering | 80000.0  | High            | 8000.0       | 88000.0           \n",
            "8.0         | Henry    | Engineering | 85000.0  | High            | 8500.0       | 93500.0           \n"
          ]
        }
      ],
      "source": [
        "/* Test 8: Display Filtered Results */\n",
        "proc print data=work.high_earners;\n",
        "run;\n"
      ]
    },
    {
      "cell_type": "code",
      "execution_count": 1,
      "metadata": {},
      "outputs": [
        {
          "name": "stdout",
          "output_type": "stream",
          "text": [
            "PROC SORT - Dataset Sorted\n",
            "==================================================\n",
            "BY Variables: department (ASC), salary (DESC)\n",
            "Observations: 8\n",
            "\n"
          ]
        }
      ],
      "source": [
        "/* Test 9: PROC SORT - Sort Data */\n",
        "proc sort data=work.enhanced_employees;\n",
        "    by department descending salary;\n",
        "run;\n"
      ]
    },
    {
      "cell_type": "markdown",
      "metadata": {},
      "source": [
        "## Open-SAS v2.0 New Statistical Procedures\n",
        "\n",
        "The following sections demonstrate the powerful new statistical procedures added in v2.0:\n"
      ]
    },
    {
      "cell_type": "markdown",
      "metadata": {},
      "source": [
        "### PROC UNIVARIATE - Distribution Diagnostics\n",
        "\n",
        "PROC UNIVARIATE provides comprehensive univariate analysis including descriptive statistics, distribution shape, and normality tests.\n"
      ]
    },
    {
      "cell_type": "code",
      "execution_count": null,
      "metadata": {
        "vscode": {
          "languageId": "python"
        }
      },
      "outputs": [],
      "source": [
        "/* PROC UNIVARIATE - Detailed distribution analysis */\n",
        "proc univariate data=work.employees;\n",
        "    var salary age;\n",
        "run;\n"
      ]
    },
    {
      "cell_type": "markdown",
      "metadata": {},
      "source": [
        "### PROC CORR - Correlation Analysis\n",
        "\n",
        "PROC CORR computes correlation matrices with options for Pearson, Spearman, and Kendall correlations.\n"
      ]
    },
    {
      "cell_type": "code",
      "execution_count": null,
      "metadata": {
        "vscode": {
          "languageId": "python"
        }
      },
      "outputs": [],
      "source": [
        "/* PROC CORR - Correlation analysis */\n",
        "proc corr data=work.employees method=pearson;\n",
        "    var salary age;\n",
        "run;\n"
      ]
    },
    {
      "cell_type": "markdown",
      "metadata": {},
      "source": [
        "### PROC FACTOR - Principal Component Analysis\n",
        "\n",
        "PROC FACTOR performs PCA and factor analysis for dimensionality reduction and exploratory data analysis.\n"
      ]
    },
    {
      "cell_type": "code",
      "execution_count": null,
      "metadata": {
        "vscode": {
          "languageId": "python"
        }
      },
      "outputs": [],
      "source": [
        "/* PROC FACTOR - Principal Component Analysis */\n",
        "proc factor data=work.employees method=pca nfactors=2;\n",
        "    var salary age;\n",
        "run;\n"
      ]
    },
    {
      "cell_type": "markdown",
      "metadata": {},
      "source": [
        "### PROC CLUSTER - Clustering Analysis\n",
        "\n",
        "PROC CLUSTER provides k-means, hierarchical, and HDBSCAN clustering methods for data segmentation.\n"
      ]
    },
    {
      "cell_type": "code",
      "execution_count": null,
      "metadata": {
        "vscode": {
          "languageId": "python"
        }
      },
      "outputs": [],
      "source": [
        "/* PROC CLUSTER - K-means clustering */\n",
        "proc cluster data=work.employees method=kmeans nclusters=3;\n",
        "    var salary age;\n",
        "run;\n"
      ]
    },
    {
      "cell_type": "markdown",
      "metadata": {},
      "source": [
        "### PROC NPAR1WAY - Nonparametric Tests\n",
        "\n",
        "PROC NPAR1WAY performs nonparametric tests including Mann-Whitney U test and Kruskal-Wallis test for comparing groups.\n"
      ]
    },
    {
      "cell_type": "code",
      "execution_count": null,
      "metadata": {
        "vscode": {
          "languageId": "python"
        }
      },
      "outputs": [],
      "source": [
        "/* PROC NPAR1WAY - Nonparametric analysis */\n",
        "proc npar1way data=work.employees;\n",
        "    class department;\n",
        "    var salary;\n",
        "run;\n"
      ]
    },
    {
      "cell_type": "markdown",
      "metadata": {},
      "source": [
        "### PROC TTEST - T-Tests\n",
        "\n",
        "PROC TTEST performs independent samples, paired samples, and one-sample t-tests with comprehensive statistical output.\n"
      ]
    },
    {
      "cell_type": "code",
      "execution_count": null,
      "metadata": {
        "vscode": {
          "languageId": "python"
        }
      },
      "outputs": [],
      "source": [
        "/* Create a binary variable for t-test */\n",
        "data work.employees;\n",
        "    set work.employees;\n",
        "    high_salary = (salary > 70000);\n",
        "run;\n",
        "\n",
        "/* PROC TTEST - Independent samples t-test */\n",
        "proc ttest data=work.employees;\n",
        "    class high_salary;\n",
        "    var age;\n",
        "run;\n"
      ]
    },
    {
      "cell_type": "markdown",
      "metadata": {},
      "source": [
        "### PROC LOGIT - Logistic Regression\n",
        "\n",
        "PROC LOGIT performs logistic regression for binary and multinomial outcomes with comprehensive model diagnostics.\n"
      ]
    },
    {
      "cell_type": "code",
      "execution_count": null,
      "metadata": {
        "vscode": {
          "languageId": "python"
        }
      },
      "outputs": [],
      "source": [
        "/* PROC LOGIT - Logistic regression */\n",
        "proc logit data=work.employees;\n",
        "    model high_salary = age;\n",
        "run;\n"
      ]
    },
    {
      "cell_type": "markdown",
      "metadata": {},
      "source": [
        "### PROC FREQ Enhanced - Chi-Square Tests\n",
        "\n",
        "Enhanced PROC FREQ now includes Chi-square tests of independence and Fisher's exact test for contingency tables.\n"
      ]
    },
    {
      "cell_type": "code",
      "execution_count": null,
      "metadata": {
        "vscode": {
          "languageId": "python"
        }
      },
      "outputs": [],
      "source": [
        "/* PROC FREQ Enhanced - Chi-square test */\n",
        "proc freq data=work.employees;\n",
        "    tables department*high_salary / chisq;\n",
        "run;\n"
      ]
    },
    {
      "cell_type": "markdown",
      "metadata": {},
      "source": [
        "### PROC TIMESERIES - Time Series Analysis\n",
        "\n",
        "PROC TIMESERIES provides seasonal decomposition, ARIMA modeling, and autocorrelation analysis for time series data.\n"
      ]
    },
    {
      "cell_type": "code",
      "execution_count": null,
      "metadata": {
        "vscode": {
          "languageId": "python"
        }
      },
      "outputs": [],
      "source": [
        "/* Create time series data */\n",
        "data work.sales;\n",
        "    input month sales marketing_spend;\n",
        "    datalines;\n",
        "1 1000 5000\n",
        "2 1100 5200\n",
        "3 1200 4800\n",
        "4 1300 5500\n",
        "5 1250 5100\n",
        "6 1400 5300\n",
        "7 1350 4900\n",
        "8 1500 5600\n",
        "9 1450 5200\n",
        "10 1600 5400\n",
        "11 1550 5000\n",
        "12 1700 5800\n",
        ";\n",
        "run;\n",
        "\n",
        "/* PROC TIMESERIES - Seasonal decomposition */\n",
        "proc timeseries data=work.sales type=decompose;\n",
        "    var sales;\n",
        "run;\n"
      ]
    },
    {
      "cell_type": "markdown",
      "metadata": {},
      "source": [
        "### PROC TREE - Decision Tree Analysis\n",
        "\n",
        "PROC TREE builds decision trees for classification and regression with feature importance analysis.\n"
      ]
    },
    {
      "cell_type": "code",
      "execution_count": null,
      "metadata": {
        "vscode": {
          "languageId": "python"
        }
      },
      "outputs": [],
      "source": [
        "/* PROC TREE - Decision tree classification */\n",
        "proc tree data=work.employees maxdepth=3;\n",
        "    model high_salary = age salary;\n",
        "run;\n"
      ]
    },
    {
      "cell_type": "markdown",
      "metadata": {},
      "source": [
        "### PROC FOREST - Random Forest Analysis\n",
        "\n",
        "PROC FOREST builds random forest ensembles for improved prediction accuracy and feature importance.\n"
      ]
    },
    {
      "cell_type": "code",
      "execution_count": null,
      "metadata": {
        "vscode": {
          "languageId": "python"
        }
      },
      "outputs": [],
      "source": [
        "/* PROC FOREST - Random forest classification */\n",
        "proc forest data=work.employees ntrees=50;\n",
        "    model high_salary = age salary;\n",
        "run;\n"
      ]
    },
    {
      "cell_type": "markdown",
      "metadata": {},
      "source": [
        "### PROC BOOST - Gradient Boosting\n",
        "\n",
        "PROC BOOST implements gradient boosting for powerful ensemble learning with configurable parameters.\n"
      ]
    },
    {
      "cell_type": "code",
      "execution_count": null,
      "metadata": {
        "vscode": {
          "languageId": "python"
        }
      },
      "outputs": [],
      "source": [
        "/* PROC BOOST - Gradient boosting */\n",
        "proc boost data=work.employees ntrees=50 learningrate=0.1;\n",
        "    model high_salary = age salary;\n",
        "run;\n"
      ]
    },
    {
      "cell_type": "markdown",
      "metadata": {},
      "source": [
        "### PROC LANGUAGE - LLM Integration (Experimental)\n",
        "\n",
        "PROC LANGUAGE integrates with Ollama for open-source LLM access, enabling AI-assisted data analysis and text generation.\n",
        "\n",
        "**Note**: Requires Ollama to be installed and running locally. Install from https://ollama.ai/\n"
      ]
    },
    {
      "cell_type": "code",
      "execution_count": null,
      "metadata": {
        "vscode": {
          "languageId": "python"
        }
      },
      "outputs": [],
      "source": [
        "/* PROC LANGUAGE - Text generation (requires Ollama) */\n",
        "proc language model=llama2 mode=generate;\n",
        "    prompt \"Explain the concept of statistical significance in data analysis\";\n",
        "run;\n"
      ]
    },
    {
      "cell_type": "markdown",
      "metadata": {},
      "source": [
        "## Summary\n",
        "\n",
        "Open-SAS v2.0 now provides a comprehensive statistical analysis platform with:\n",
        "\n",
        "- **13 Major Procedures**: From basic descriptive statistics to advanced machine learning\n",
        "- **Professional Output**: SAS-inspired formatting with proper statistical interpretation\n",
        "- **Modern Backend**: Python-powered with scikit-learn, statsmodels, and scipy\n",
        "- **Extensible Architecture**: Easy to add new procedures and capabilities\n",
        "- **Open Source**: Free and open-source alternative to proprietary statistical software\n",
        "\n",
        "### Key Advantages:\n",
        "- ✅ **No License Costs**: Completely free to use\n",
        "- ✅ **Cross-Platform**: Works on Windows, macOS, and Linux\n",
        "- ✅ **Jupyter Integration**: Interactive analysis in notebooks\n",
        "- ✅ **VS Code Support**: Syntax highlighting and execution\n",
        "- ✅ **Python Ecosystem**: Access to thousands of Python packages\n",
        "- ✅ **Community Driven**: Open source with active development\n",
        "\n",
        "**Ready for production use in research, education, and data analysis!**\n"
      ]
    },
    {
      "cell_type": "code",
      "execution_count": 1,
      "metadata": {},
      "outputs": [
        {
          "name": "stdout",
          "output_type": "stream",
          "text": [
            "PROC PRINT - Dataset Contents\n",
            "==================================================\n",
            "Observations: 8\n",
            "Variables: 7\n",
            "\n",
            "employee_id | name     | department  | salary   | salary_category | annual_bonus | total_compensation\n",
            "-----------------------------------------------------------------------------------------------------\n",
            "8.0         | Henry    | Engineering | 85000.0  | High            | 8500.0       | 93500.0           \n",
            "3.0         | Carol    | Engineering | 80000.0  | High            | 8000.0       | 88000.0           \n",
            "1.0         | Alice    | Engineering | 75000.0  | High            | 7500.0       | 82500.0           \n",
            "5.0         | Eve      | Engineering | 70000.0  | Medium          | 7000.0       | 77000.0           \n",
            "6.0         | Frank    | Marketing   | 60000.0  | Medium          | 6000.0       | 66000.0           \n",
            "2.0         | Bob      | Marketing   | 55000.0  | Low             | 5500.0       | 60500.0           \n",
            "7.0         | Grace    | Sales       | 50000.0  | Low             | 5000.0       | 55000.0           \n",
            "4.0         | David    | Sales       | 45000.0  | Low             | 4500.0       | 49500.0           \n"
          ]
        }
      ],
      "source": [
        "/* Test 10: Display Sorted Data */\n",
        "proc print data=work.enhanced_employees;\n",
        "run;\n"
      ]
    },
    {
      "cell_type": "code",
      "execution_count": 1,
      "metadata": {},
      "outputs": [
        {
          "name": "stdout",
          "output_type": "stream",
          "text": [
            "PROC MEANS - Grouped Analysis\n",
            "==================================================\n",
            "Analysis Variables: salary, total_compensation\n",
            "Grouping Variables: department\n",
            "\n",
            "department  | salary_count | salary_mean | salary_std         | salary_min | salary_max | total_compensation_count | total_compensation_mean | total_compensation_std | total_compensation_min | total_compensation_max\n",
            "-----------------------------------------------------------------------------------------------------------------------------------------------------------------------------------------------------------------------\n",
            "Engineering | 4            | 77500.0     | 6454.972243679028  | 70000.0    | 85000.0    | 4                        | 85250.0                 | 7100.469468046931      | 77000.0                | 93500.0               \n",
            "Marketing   | 2            | 57500.0     | 3535.5339059327375 | 55000.0    | 60000.0    | 2                        | 63250.0                 | 3889.0872965260114     | 60500.0                | 66000.0               \n",
            "Sales       | 2            | 47500.0     | 3535.5339059327375 | 45000.0    | 50000.0    | 2                        | 52250.0                 | 3889.0872965260114     | 49500.0                | 55000.0               \n"
          ]
        }
      ],
      "source": [
        "/* Test 11: Advanced Statistics - PROC MEANS with, print, no output */\n",
        "proc means data=work.enhanced_employees;\n",
        "    class department;\n",
        "    var salary total_compensation;\n",
        "    output \n",
        "           mean=avg_salary avg_compensation \n",
        "           min=min_salary min_compensation \n",
        "           max=max_salary max_compensation;\n",
        "run;\n"
      ]
    },
    {
      "cell_type": "code",
      "execution_count": 1,
      "metadata": {},
      "outputs": [],
      "source": [
        "/* Test 12: Advanced Statistics - PROC MEANS with noprint, and output */\n",
        "proc means data=work.enhanced_employees noprint;\n",
        "    class department;\n",
        "    var salary total_compensation;\n",
        "    output out=work.dept_summary \n",
        "           mean=avg_salary avg_compensation \n",
        "           min=min_salary min_compensation \n",
        "           max=max_salary max_compensation;\n",
        "run;\n"
      ]
    },
    {
      "cell_type": "code",
      "execution_count": 1,
      "metadata": {},
      "outputs": [
        {
          "name": "stdout",
          "output_type": "stream",
          "text": [
            "PROC PRINT - Dataset Contents\n",
            "==================================================\n",
            "Observations: 3\n",
            "Variables: 7\n",
            "\n",
            "avg_salary | avg_compensation | max_salary | max_compensation | department  | salary_min | total_compensation_min\n",
            "-----------------------------------------------------------------------------------------------------------------\n",
            "77500.0    | 85250.0          | 85000.0    | 93500.0          | Engineering | 70000.0    | 77000.0               \n",
            "57500.0    | 63250.0          | 60000.0    | 66000.0          | Marketing   | 55000.0    | 60500.0               \n",
            "47500.0    | 52250.0          | 50000.0    | 55000.0          | Sales       | 45000.0    | 49500.0               \n"
          ]
        }
      ],
      "source": [
        "/* Test 12: Display Summary Statistics */\n",
        "proc print data=work.dept_summary;\n",
        "run;\n"
      ]
    },
    {
      "cell_type": "code",
      "execution_count": 1,
      "metadata": {},
      "outputs": [
        {
          "name": "stdout",
          "output_type": "stream",
          "text": [
            "PROC FREQ - Cross-tabulation: department * salary_category\n",
            "Options: nocol nopercent\n",
            "==================================================\n",
            "\n",
            "department      | High | Low | Medium | Total\n",
            "---------------------------------------------\n",
            "Engineering     | 3    | 0   | 1      | 4    \n",
            "Marketing       | 0    | 1   | 1      | 2    \n",
            "Sales           | 0    | 2   | 0      | 2    \n",
            "Total           | 3    | 3   | 2      | 8    \n"
          ]
        }
      ],
      "source": [
        "/* Test 13: Cross-tabulation Analysis */\n",
        "proc freq data=work.enhanced_employees;\n",
        "    tables department * salary_category / nocol nopercent;\n",
        "run;\n"
      ]
    },
    {
      "cell_type": "code",
      "execution_count": 1,
      "metadata": {},
      "outputs": [
        {
          "name": "stdout",
          "output_type": "stream",
          "text": [
            "PROC CONTENTS - Dataset Information\n",
            "==================================================\n",
            "\n",
            "Dataset Information:\n",
            "  Observations: 8\n",
            "  Variables: 7\n",
            "\n",
            "Variable Information:\n",
            "--------------------------------------------------------------------------------\n",
            "#   Variable             Type       Length   Non-Null   Null    \n",
            "--------------------------------------------------------------------------------\n",
            "1   employee_id          Numeric    8        8          0       \n",
            "2   name                 Character  Variable 8          0       \n",
            "3   department           Character  Variable 8          0       \n",
            "4   salary               Numeric    8        8          0       \n",
            "5   salary_category      Character  Variable 8          0       \n",
            "6   annual_bonus         Numeric    8        8          0       \n",
            "7   total_compensation   Numeric    8        8          0       \n"
          ]
        }
      ],
      "source": [
        "/* Test 14: PROC CONTENTS - Dataset Information */\n",
        "proc contents data=work.enhanced_employees;\n",
        "run;\n"
      ]
    },
    {
      "cell_type": "code",
      "execution_count": null,
      "metadata": {},
      "outputs": [],
      "source": []
    }
  ],
  "metadata": {
    "kernelspec": {
      "display_name": "osas",
      "language": "osas",
      "name": "osas"
    },
    "language_info": {
      "codemirror_mode": "sas",
      "codemirror_mode_name": "sas",
      "file_extension": ".osas",
      "mimetype": "text/x-sas",
      "name": "osas",
      "nbconvert_exporter": "python",
      "pygments_lexer": "sas",
      "version": "9.4"
    }
  },
  "nbformat": 4,
  "nbformat_minor": 2
}

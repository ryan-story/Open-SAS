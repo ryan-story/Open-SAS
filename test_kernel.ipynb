{
  "cells": [
    {
      "cell_type": "code",
      "execution_count": null,
      "metadata": {
        "vscode": {
          "languageId": "python"
        }
      },
      "outputs": [],
      "source": [
        "{\n",
        " \"cells\": [\n",
        "  {\n",
        "   \"cell_type\": \"code\",\n",
        "   \"execution_count\": null,\n",
        "   \"metadata\": {},\n",
        "   \"outputs\": [],\n",
        "   \"source\": [\n",
        "    \"/* Simple test cell */\\n\",\n",
        "    \"data work.test;\\n\",\n",
        "    \"    input name $ age;\\n\",\n",
        "    \"    datalines;\\n\",\n",
        "    \"John 30\\n\",\n",
        "    \"Mary 25\\n\",\n",
        "    \";\\n\",\n",
        "    \"run;\"\n",
        "   ]\n",
        "  },\n",
        "  {\n",
        "   \"cell_type\": \"code\",\n",
        "   \"execution_count\": null,\n",
        "   \"metadata\": {},\n",
        "   \"outputs\": [],\n",
        "   \"source\": [\n",
        "    \"proc print data=work.test;\\n\",\n",
        "    \"run;\"\n",
        "   ]\n",
        "  }\n",
        " ],\n",
        " \"metadata\": {\n",
        "  \"kernelspec\": {\n",
        "   \"display_name\": \"Open-SAS\",\n",
        "   \"language\": \"sas\",\n",
        "   \"name\": \"osas\"\n",
        "  },\n",
        "  \"language_info\": {\n",
        "   \"name\": \"sas\",\n",
        "   \"mimetype\": \"text/x-sas\",\n",
        "   \"file_extension\": \".osas\"\n",
        "  }\n",
        " },\n",
        " \"nbformat\": 4,\n",
        " \"nbformat_minor\": 4\n",
        "}\n"
      ]
    },
    {
      "cell_type": "code",
      "execution_count": null,
      "metadata": {},
      "outputs": [],
      "source": []
    }
  ],
  "metadata": {
    "kernelspec": {
      "display_name": "Open-SAS",
      "language": "sas",
      "name": "osas"
    },
    "language_info": {
      "name": "sas"
    }
  },
  "nbformat": 4,
  "nbformat_minor": 2
}

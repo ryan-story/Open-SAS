{
  "cells": [
    {
      "cell_type": "code",
      "execution_count": null,
      "metadata": {},
      "outputs": [],
      "source": [
        "data work.test3;\n",
        "set work.employees;\n",
        "bonus = salary * 0.1;\n",
        "run;\n"
      ]
    }
  ],
  "metadata": {
    "language_info": {
      "name": "python"
    }
  },
  "nbformat": 4,
  "nbformat_minor": 2
}

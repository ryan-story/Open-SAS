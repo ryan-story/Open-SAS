{
  "cells": [
    {
      "cell_type": "markdown",
      "metadata": {},
      "source": [
        "# Open-SAS Test Notebook\n",
        "\n",
        "This is a fresh notebook to test the Open-SAS kernel.\n",
        "\n",
        "**Kernel**: Make sure to select \"osas\" as the kernel!\n"
      ]
    },
    {
      "cell_type": "code",
      "execution_count": null,
      "metadata": {},
      "outputs": [],
      "source": [
        "/* Create sample data */\n",
        "data work.test_data;\n",
        "    input name $ age salary;\n",
        "    datalines;\n",
        "John 30 60000\n",
        "Mary 25 55000\n",
        "Bob 35 75000\n",
        "Alice 28 65000\n",
        ";\n",
        "run;\n"
      ]
    },
    {
      "cell_type": "code",
      "execution_count": null,
      "metadata": {},
      "outputs": [],
      "source": [
        "/* Display the dataset */\n",
        "proc print data=work.test_data;\n",
        "run;\n"
      ]
    },
    {
      "cell_type": "code",
      "execution_count": null,
      "metadata": {},
      "outputs": [],
      "source": [
        "/* Basic statistics */\n",
        "proc means data=work.test_data;\n",
        "    var age salary;\n",
        "run;\n"
      ]
    },
    {
      "cell_type": "code",
      "execution_count": null,
      "metadata": {},
      "outputs": [],
      "source": [
        "/* Create a new variable */\n",
        "data work.enhanced_data;\n",
        "    set work.test_data;\n",
        "    salary_category = ifn(salary > 60000, 'High', 'Medium');\n",
        "run;\n"
      ]
    },
    {
      "cell_type": "code",
      "execution_count": null,
      "metadata": {},
      "outputs": [],
      "source": [
        "/* Display enhanced data */\n",
        "proc print data=work.enhanced_data;\n",
        "run;\n"
      ]
    },
    {
      "cell_type": "code",
      "execution_count": null,
      "metadata": {},
      "outputs": [],
      "source": [
        "/* Frequency analysis */\n",
        "proc freq data=work.enhanced_data;\n",
        "    tables salary_category;\n",
        "run;\n"
      ]
    }
  ],
  "metadata": {
    "language_info": {
      "name": "python"
    }
  },
  "nbformat": 4,
  "nbformat_minor": 2
}

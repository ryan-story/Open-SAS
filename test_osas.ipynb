{
  "cells": [
    {
      "cell_type": "markdown",
      "metadata": {},
      "source": [
        "# Open-SAS Test Notebook\n",
        "\n",
        "This is a fresh notebook to test the Open-SAS kernel.\n",
        "\n",
        "**Kernel**: Make sure to select \"osas\" as the kernel!\n"
      ]
    },
    {
      "cell_type": "code",
      "execution_count": 1,
      "metadata": {},
      "outputs": [
        {
          "name": "stdout",
          "output_type": "stream",
          "text": [
            "Executing DATA step: data work.test_data;\n",
            "input name $ age salary;\n",
            "datalines;\n",
            "John 30 60000\n",
            "Mary 25 55000\n",
            "Bob 35 75000\n",
            "Alice 28 65000\n",
            ";\n",
            "run;\n",
            "Saved dataset work.test_data to library work\n",
            "Created dataset: work.test_data with 4 observations\n"
          ]
        },
        {
          "data": {
            "text/html": [
              "\n",
              "        <div class=\"sas-dataset\" style=\"margin: 10px 0; border: 1px solid #ddd; border-radius: 4px; padding: 10px;\">\n",
              "            <h4 style=\"margin: 0 0 10px 0; color: #333;\">Dataset: work.test_data</h4>\n",
              "            <p style=\"margin: 0 0 10px 0; color: #666; font-size: 0.9em;\">\n",
              "                4 observations, 3 variables\n",
              "            </p>\n",
              "        \n",
              "            <table style=\"border-collapse: collapse; width: 100%; font-size: 0.9em;\">\n",
              "                <thead>\n",
              "                    <tr style=\"background-color: #f5f5f5;\">\n",
              "            <th style=\"border: 1px solid #ddd; padding: 8px; text-align: left;\">name</th><th style=\"border: 1px solid #ddd; padding: 8px; text-align: left;\">age</th><th style=\"border: 1px solid #ddd; padding: 8px; text-align: left;\">salary</th>\n",
              "                    </tr>\n",
              "                </thead>\n",
              "                <tbody>\n",
              "            <tr><td style=\"border: 1px solid #ddd; padding: 8px;\">John</td><td style=\"border: 1px solid #ddd; padding: 8px;\">30.0</td><td style=\"border: 1px solid #ddd; padding: 8px;\">60000.0</td></tr><tr><td style=\"border: 1px solid #ddd; padding: 8px;\">Mary</td><td style=\"border: 1px solid #ddd; padding: 8px;\">25.0</td><td style=\"border: 1px solid #ddd; padding: 8px;\">55000.0</td></tr><tr><td style=\"border: 1px solid #ddd; padding: 8px;\">Bob</td><td style=\"border: 1px solid #ddd; padding: 8px;\">35.0</td><td style=\"border: 1px solid #ddd; padding: 8px;\">75000.0</td></tr><tr><td style=\"border: 1px solid #ddd; padding: 8px;\">Alice</td><td style=\"border: 1px solid #ddd; padding: 8px;\">28.0</td><td style=\"border: 1px solid #ddd; padding: 8px;\">65000.0</td></tr>\n",
              "                </tbody>\n",
              "            </table>\n",
              "            </div>"
            ],
            "text/plain": [
              "Dataset: work.test_data (4 obs, 3 vars)"
            ]
          },
          "metadata": {},
          "output_type": "display_data"
        },
        {
          "name": "stderr",
          "output_type": "stream",
          "text": [
            "2025-10-16 10:51:30,373 - OSASKernel - INFO - do_execute called with code: '/* Create sample data */\\ndata work.test_data;\\n    input name $ age salary;\\n    datalines;\\nJohn 30 60'...\n",
            "2025-10-16 10:51:30,373 - OSASKernel - INFO - silent=False, store_history=True, allow_stdin=True\n",
            "2025-10-16 10:51:30,373 - OSASKernel - INFO - execution_count: 1\n",
            "2025-10-16 10:51:30,374 - OSASKernel - INFO - Datasets before execution: set()\n",
            "2025-10-16 10:51:30,374 - OSASKernel - INFO - Starting SAS code execution\n",
            "2025-10-16 10:51:30,416 - OSASKernel - INFO - SAS execution completed. Output length: 238, Errors length: 0\n",
            "2025-10-16 10:51:30,416 - OSASKernel - INFO - Sending stdout output: 'Executing DATA step: data work.test_data;\\ninput name $ age salary;\\ndatalines;\\nJohn 30 60000\\nMary 25 '...\n",
            "2025-10-16 10:51:30,418 - OSASKernel - INFO - Sending dataset display for: ['work.test_data']\n",
            "2025-10-16 10:51:30,418 - OSASKernel - INFO - Returning successful execution result\n"
          ]
        }
      ],
      "source": [
        "/* Create sample data */\n",
        "data work.test_data;\n",
        "    input name $ age salary;\n",
        "    datalines;\n",
        "John 30 60000\n",
        "Mary 25 55000\n",
        "Bob 35 75000\n",
        "Alice 28 65000\n",
        ";\n",
        "run;\n"
      ]
    },
    {
      "cell_type": "code",
      "execution_count": null,
      "metadata": {},
      "outputs": [],
      "source": [
        "/* Display the dataset */\n",
        "proc print data=work.test_data;\n",
        "run;\n"
      ]
    },
    {
      "cell_type": "code",
      "execution_count": null,
      "metadata": {},
      "outputs": [],
      "source": [
        "/* Basic statistics */\n",
        "proc means data=work.test_data;\n",
        "    var age salary;\n",
        "run;\n"
      ]
    },
    {
      "cell_type": "code",
      "execution_count": null,
      "metadata": {},
      "outputs": [],
      "source": [
        "/* Create a new variable */\n",
        "data work.enhanced_data;\n",
        "    set work.test_data;\n",
        "    salary_category = ifn(salary > 60000, 'High', 'Medium');\n",
        "run;\n"
      ]
    },
    {
      "cell_type": "code",
      "execution_count": null,
      "metadata": {},
      "outputs": [],
      "source": [
        "/* Display enhanced data */\n",
        "proc print data=work.enhanced_data;\n",
        "run;\n"
      ]
    },
    {
      "cell_type": "code",
      "execution_count": null,
      "metadata": {},
      "outputs": [],
      "source": [
        "/* Frequency analysis */\n",
        "proc freq data=work.enhanced_data;\n",
        "    tables salary_category;\n",
        "run;\n"
      ]
    },
    {
      "cell_type": "code",
      "execution_count": null,
      "metadata": {},
      "outputs": [],
      "source": []
    }
  ],
  "metadata": {
    "kernelspec": {
      "display_name": "osas",
      "language": "osas",
      "name": "osas"
    },
    "language_info": {
      "codemirror_mode": "sas",
      "file_extension": ".osas",
      "mimetype": "text/x-sas",
      "name": "osas",
      "pygments_lexer": "sas",
      "version": "9.4"
    }
  },
  "nbformat": 4,
  "nbformat_minor": 2
}

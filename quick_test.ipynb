{
 "cells": [
  {
   "cell_type": "markdown",
   "metadata": {},
   "source": [
    "# Open-SAS Interactive Notebook\n",
    "\n",
    "This notebook demonstrates interactive SAS analysis using Open-SAS.\n",
    "Each cell can be run independently to see immediate results.\n",
    "\n",
    "**Note**: Make sure to select \"Open-SAS\" as the kernel in the top-right corner!\n"
   ]
  },
  {
   "cell_type": "code",
   "execution_count": null,
   "metadata": {
    "vscode": {
     "languageId": "python"
    }
   },
   "outputs": [],
   "source": [
    "/* Create sample data */\n",
    "data work.sample;\n",
    "    input name $ age salary;\n",
    "    datalines;\n",
    "John 30 60000\n",
    "Mary 25 55000\n",
    "Bob 35 75000\n",
    "Alice 28 65000\n",
    ";\n",
    "run;\n"
   ]
  },
  {
   "cell_type": "code",
   "execution_count": null,
   "metadata": {
    "vscode": {
     "languageId": "python"
    }
   },
   "outputs": [],
   "source": [
    "/* Display the data */\n",
    "proc print data=work.sample;\n",
    "run;\n"
   ]
  },
  {
   "cell_type": "code",
   "execution_count": null,
   "metadata": {
    "vscode": {
     "languageId": "python"
    }
   },
   "outputs": [],
   "source": [
    "/* Calculate statistics */\n",
    "proc means data=work.sample;\n",
    "    var age salary;\n",
    "run;\n"
   ]
  },
  {
   "cell_type": "code",
   "execution_count": null,
   "metadata": {
    "vscode": {
     "languageId": "python"
    }
   },
   "outputs": [],
   "source": [
    "/* Filter high earners */\n",
    "%let min_salary = 65000;\n",
    "\n",
    "proc print data=work.sample;\n",
    "    where salary >= &min_salary;\n",
    "run;\n"
   ]
  }
 ],
 "metadata": {
  "kernelspec": {
   "display_name": "Open-SAS",
   "language": "sas",
   "name": "osas"
  },
  "language_info": {
   "name": "sas",
   "version": "9.4"
  }
 },
 "nbformat": 4,
 "nbformat_minor": 2
}

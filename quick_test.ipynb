{
 "cells": [
  {
   "cell_type": "markdown",
   "metadata": {},
   "source": [
    "# Open-SAS Interactive Notebook\n",
    "\n",
    "This notebook demonstrates interactive SAS analysis using Open-SAS.\n",
    "Each cell can be run independently to see immediate results.\n",
    "\n",
    "**Note**: Make sure to select \"osas\" as the kernel in the top-right corner!\n"
   ]
  },
  {
   "cell_type": "code",
   "execution_count": 1,
   "metadata": {},
   "outputs": [
    {
     "name": "stdout",
     "output_type": "stream",
     "text": [
      "Executing DATA step: data work.sample2;\n",
      "input name $ age salary;\n",
      "datalines;\n",
      "John 30 60000\n",
      "Mary 25 55000\n",
      "Bob 35 75000\n",
      "Alice 28 65000\n",
      ";\n",
      "run;\n",
      "Saved dataset work.sample2 to library work\n",
      "Created dataset: work.sample2 with 4 observations\n"
     ]
    },
    {
     "data": {
      "text/html": [
       "\n",
       "        <div class=\"sas-dataset\" style=\"margin: 10px 0; border: 1px solid #ddd; border-radius: 4px; padding: 10px;\">\n",
       "            <h4 style=\"margin: 0 0 10px 0; color: #333;\">Dataset: work.sample2</h4>\n",
       "            <p style=\"margin: 0 0 10px 0; color: #666; font-size: 0.9em;\">\n",
       "                4 observations, 3 variables\n",
       "            </p>\n",
       "        \n",
       "            <table style=\"border-collapse: collapse; width: 100%; font-size: 0.9em;\">\n",
       "                <thead>\n",
       "                    <tr style=\"background-color: #f5f5f5;\">\n",
       "            <th style=\"border: 1px solid #ddd; padding: 8px; text-align: left;\">name</th><th style=\"border: 1px solid #ddd; padding: 8px; text-align: left;\">age</th><th style=\"border: 1px solid #ddd; padding: 8px; text-align: left;\">salary</th>\n",
       "                    </tr>\n",
       "                </thead>\n",
       "                <tbody>\n",
       "            <tr><td style=\"border: 1px solid #ddd; padding: 8px;\">John</td><td style=\"border: 1px solid #ddd; padding: 8px;\">30.0</td><td style=\"border: 1px solid #ddd; padding: 8px;\">60000.0</td></tr><tr><td style=\"border: 1px solid #ddd; padding: 8px;\">Mary</td><td style=\"border: 1px solid #ddd; padding: 8px;\">25.0</td><td style=\"border: 1px solid #ddd; padding: 8px;\">55000.0</td></tr><tr><td style=\"border: 1px solid #ddd; padding: 8px;\">Bob</td><td style=\"border: 1px solid #ddd; padding: 8px;\">35.0</td><td style=\"border: 1px solid #ddd; padding: 8px;\">75000.0</td></tr><tr><td style=\"border: 1px solid #ddd; padding: 8px;\">Alice</td><td style=\"border: 1px solid #ddd; padding: 8px;\">28.0</td><td style=\"border: 1px solid #ddd; padding: 8px;\">65000.0</td></tr>\n",
       "                </tbody>\n",
       "            </table>\n",
       "            </div>"
      ],
      "text/plain": [
       "Dataset: work.sample2 (4 obs, 3 vars)"
      ]
     },
     "metadata": {},
     "output_type": "display_data"
    },
    {
     "name": "stderr",
     "output_type": "stream",
     "text": [
      "2025-10-16 10:44:46,268 - OSASKernel - INFO - do_execute called with code: '/* Create sample data */\\ndata work.sample2;\\n    input name $ age salary;\\n    datalines;\\nJohn 30 6000'...\n",
      "2025-10-16 10:44:46,268 - OSASKernel - INFO - silent=False, store_history=True, allow_stdin=True\n",
      "2025-10-16 10:44:46,269 - OSASKernel - INFO - execution_count: 1\n",
      "2025-10-16 10:44:46,269 - OSASKernel - INFO - Datasets before execution: set()\n",
      "2025-10-16 10:44:46,269 - OSASKernel - INFO - Starting SAS code execution\n",
      "2025-10-16 10:44:46,356 - OSASKernel - INFO - SAS execution completed. Output length: 232, Errors length: 0\n",
      "2025-10-16 10:44:46,356 - OSASKernel - INFO - Sending stdout output: 'Executing DATA step: data work.sample2;\\ninput name $ age salary;\\ndatalines;\\nJohn 30 60000\\nMary 25 55'...\n",
      "2025-10-16 10:44:46,360 - OSASKernel - INFO - Sending dataset display for: ['work.sample2']\n",
      "2025-10-16 10:44:46,360 - OSASKernel - INFO - Returning successful execution result\n"
     ]
    }
   ],
   "source": [
    "/* Create sample data */\n",
    "data work.sample2;\n",
    "    input name $ age salary;\n",
    "    datalines;\n",
    "John 30 60000\n",
    "Mary 25 55000\n",
    "Bob 35 75000\n",
    "Alice 28 65000\n",
    ";\n",
    "run;\n"
   ]
  },
  {
   "cell_type": "code",
   "execution_count": null,
   "metadata": {},
   "outputs": [],
   "source": [
    "/* Display the data */\n",
    "proc print data=work.sample;\n",
    "run;\n"
   ]
  },
  {
   "cell_type": "code",
   "execution_count": null,
   "metadata": {},
   "outputs": [],
   "source": [
    "/* Calculate statistics */\n",
    "proc means data=work.sample;\n",
    "    var age salary;\n",
    "run;\n"
   ]
  },
  {
   "cell_type": "code",
   "execution_count": null,
   "metadata": {},
   "outputs": [],
   "source": [
    "/* Filter high earners */\n",
    "%let min_salary = 65000;\n",
    "\n",
    "proc print data=work.sample;\n",
    "    where salary >= &min_salary;\n",
    "run;\n"
   ]
  },
  {
   "cell_type": "code",
   "execution_count": 1,
   "metadata": {},
   "outputs": [
    {
     "name": "stdout",
     "output_type": "stream",
     "text": [
      "Executing DATA step: data test; x=1; run;\n",
      "Created dataset: test with 0 observations\n"
     ]
    },
    {
     "data": {
      "text/html": [
       "\n",
       "        <div class=\"sas-dataset\" style=\"margin: 10px 0; border: 1px solid #ddd; border-radius: 4px; padding: 10px;\">\n",
       "            <h4 style=\"margin: 0 0 10px 0; color: #333;\">Dataset: test</h4>\n",
       "            <p style=\"margin: 0 0 10px 0; color: #666; font-size: 0.9em;\">\n",
       "                0 observations, 0 variables\n",
       "            </p>\n",
       "        </div>"
      ],
      "text/plain": [
       "Dataset: test (0 obs, 0 vars)"
      ]
     },
     "metadata": {},
     "output_type": "display_data"
    },
    {
     "name": "stderr",
     "output_type": "stream",
     "text": [
      "2025-10-16 10:40:06,433 - OSASKernel - INFO - do_execute called with code: 'data test; x=1; run;'...\n",
      "2025-10-16 10:40:06,434 - OSASKernel - INFO - silent=False, store_history=True, allow_stdin=True\n",
      "2025-10-16 10:40:06,434 - OSASKernel - INFO - execution_count: 1\n",
      "2025-10-16 10:40:06,435 - OSASKernel - INFO - Datasets before execution: set()\n",
      "2025-10-16 10:40:06,435 - OSASKernel - INFO - Starting SAS code execution\n",
      "2025-10-16 10:40:06,436 - OSASKernel - INFO - SAS execution completed. Output length: 84, Errors length: 0\n",
      "2025-10-16 10:40:06,436 - OSASKernel - INFO - Sending stdout output: 'Executing DATA step: data test; x=1; run;\\nCreated dataset: test with 0 observations\\n'...\n",
      "2025-10-16 10:40:06,437 - OSASKernel - INFO - Sending dataset display for: ['test']\n",
      "2025-10-16 10:40:06,437 - OSASKernel - INFO - Returning successful execution result\n"
     ]
    }
   ],
   "source": [
    "data test; x=1; run;"
   ]
  },
  {
   "cell_type": "code",
   "execution_count": null,
   "metadata": {},
   "outputs": [],
   "source": []
  },
  {
   "cell_type": "code",
   "execution_count": null,
   "metadata": {},
   "outputs": [],
   "source": []
  },
  {
   "cell_type": "code",
   "execution_count": null,
   "metadata": {},
   "outputs": [],
   "source": []
  }
 ],
 "metadata": {
  "kernelspec": {
   "display_name": "osas",
   "language": "osas",
   "name": "osas"
  },
  "language_info": {
   "codemirror_mode": "sas",
   "file_extension": ".osas",
   "mimetype": "text/x-sas",
   "name": "osas",
   "pygments_lexer": "sas",
   "version": "9.4"
  }
 },
 "nbformat": 4,
 "nbformat_minor": 2
}
